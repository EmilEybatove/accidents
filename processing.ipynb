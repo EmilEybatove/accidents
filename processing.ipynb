{
 "cells": [
  {
   "cell_type": "markdown",
   "id": "5ccc75db",
   "metadata": {},
   "source": [
    "# Предобработка данных"
   ]
  },
  {
   "cell_type": "markdown",
   "id": "06386b42",
   "metadata": {},
   "source": [
    "для начала импортируем необходимые библиотеки"
   ]
  },
  {
   "cell_type": "code",
   "execution_count": 396,
   "id": "930fd2cd",
   "metadata": {},
   "outputs": [],
   "source": [
    "import pandas as pd"
   ]
  },
  {
   "cell_type": "markdown",
   "id": "c43208ed",
   "metadata": {},
   "source": [
    "Откроем наш датасет"
   ]
  },
  {
   "cell_type": "code",
   "execution_count": 397,
   "id": "a4dcaf6c",
   "metadata": {},
   "outputs": [
    {
     "data": {
      "text/html": [
       "<div>\n",
       "<style scoped>\n",
       "    .dataframe tbody tr th:only-of-type {\n",
       "        vertical-align: middle;\n",
       "    }\n",
       "\n",
       "    .dataframe tbody tr th {\n",
       "        vertical-align: top;\n",
       "    }\n",
       "\n",
       "    .dataframe thead th {\n",
       "        text-align: right;\n",
       "    }\n",
       "</style>\n",
       "<table border=\"1\" class=\"dataframe\">\n",
       "  <thead>\n",
       "    <tr style=\"text-align: right;\">\n",
       "      <th></th>\n",
       "      <th>Unnamed: 0</th>\n",
       "      <th>coordL</th>\n",
       "      <th>coordW</th>\n",
       "      <th>DTPType</th>\n",
       "      <th>date</th>\n",
       "      <th>street</th>\n",
       "      <th>road</th>\n",
       "      <th>NVehicles</th>\n",
       "      <th>NPatricipants</th>\n",
       "      <th>NInjured</th>\n",
       "      <th>...</th>\n",
       "      <th>placeConditions</th>\n",
       "      <th>closeObjects</th>\n",
       "      <th>violations</th>\n",
       "      <th>violationsAdditional</th>\n",
       "      <th>alco</th>\n",
       "      <th>privod</th>\n",
       "      <th>traffic_regime</th>\n",
       "      <th>pokritie</th>\n",
       "      <th>neispravnosti</th>\n",
       "      <th>safety_belt</th>\n",
       "    </tr>\n",
       "  </thead>\n",
       "  <tbody>\n",
       "    <tr>\n",
       "      <th>0</th>\n",
       "      <td>0</td>\n",
       "      <td>37.464817</td>\n",
       "      <td>55.758116</td>\n",
       "      <td>Наезд на препятствие</td>\n",
       "      <td>01.01.2020</td>\n",
       "      <td>ул Мнёвники Нижн.</td>\n",
       "      <td>NaN</td>\n",
       "      <td>1</td>\n",
       "      <td>1</td>\n",
       "      <td>1</td>\n",
       "      <td>...</td>\n",
       "      <td>Перегон (нет объектов на месте ДТП)</td>\n",
       "      <td>Остановка общественного транспорта</td>\n",
       "      <td>Несоответствие скорости конкретным условиям дв...</td>\n",
       "      <td>Нет нарушений</td>\n",
       "      <td>NaN</td>\n",
       "      <td>С передним приводом</td>\n",
       "      <td>Режим движения не изменялся</td>\n",
       "      <td>Обработанное противогололедными материалами</td>\n",
       "      <td>Технические неисправности отсутствуют</td>\n",
       "      <td>Нет</td>\n",
       "    </tr>\n",
       "    <tr>\n",
       "      <th>1</th>\n",
       "      <td>1</td>\n",
       "      <td>37.388953</td>\n",
       "      <td>55.811338</td>\n",
       "      <td>Наезд на стоящее ТС</td>\n",
       "      <td>01.01.2020</td>\n",
       "      <td>NaN</td>\n",
       "      <td>Московская кольцевая автомобильная дорога (МКА...</td>\n",
       "      <td>2</td>\n",
       "      <td>2</td>\n",
       "      <td>1</td>\n",
       "      <td>...</td>\n",
       "      <td>Перегон (нет объектов на месте ДТП)</td>\n",
       "      <td>Отсутствие в непосредственной близости объекто...</td>\n",
       "      <td>Несоответствие скорости конкретным условиям дв...</td>\n",
       "      <td>Нет нарушений</td>\n",
       "      <td>NaN</td>\n",
       "      <td>С передним приводом;С передним приводом</td>\n",
       "      <td>Движение частично перекрыто</td>\n",
       "      <td>Сухое</td>\n",
       "      <td>Технические неисправности отсутствуют;Техничес...</td>\n",
       "      <td>Нет</td>\n",
       "    </tr>\n",
       "    <tr>\n",
       "      <th>2</th>\n",
       "      <td>2</td>\n",
       "      <td>37.623153</td>\n",
       "      <td>55.866787</td>\n",
       "      <td>Наезд на пешехода</td>\n",
       "      <td>01.01.2020</td>\n",
       "      <td>NaN</td>\n",
       "      <td>NaN</td>\n",
       "      <td>1</td>\n",
       "      <td>2</td>\n",
       "      <td>1</td>\n",
       "      <td>...</td>\n",
       "      <td>Внутридворовая территория</td>\n",
       "      <td>Административные здания</td>\n",
       "      <td>Несоблюдение очередности проезда</td>\n",
       "      <td>Другие нарушения ПДД водителем</td>\n",
       "      <td>NaN</td>\n",
       "      <td>Иное расположение рулевого управления</td>\n",
       "      <td>Режим движения не изменялся</td>\n",
       "      <td>Сухое</td>\n",
       "      <td>Технические неисправности отсутствуют</td>\n",
       "      <td>Нет</td>\n",
       "    </tr>\n",
       "    <tr>\n",
       "      <th>3</th>\n",
       "      <td>3</td>\n",
       "      <td>37.588413</td>\n",
       "      <td>55.660576</td>\n",
       "      <td>Столкновение</td>\n",
       "      <td>01.01.2020</td>\n",
       "      <td>ул Болотниковская</td>\n",
       "      <td>NaN</td>\n",
       "      <td>2</td>\n",
       "      <td>3</td>\n",
       "      <td>1</td>\n",
       "      <td>...</td>\n",
       "      <td>Регулируемый пешеходный переход</td>\n",
       "      <td>Остановка общественного транспорта</td>\n",
       "      <td>Нет нарушений;Несоблюдение очередности проезда</td>\n",
       "      <td>Нет нарушений;Нет нарушений</td>\n",
       "      <td>;</td>\n",
       "      <td>С передним приводом;С передним приводом</td>\n",
       "      <td>Движение частично перекрыто</td>\n",
       "      <td>Мокрое</td>\n",
       "      <td>Технические неисправности отсутствуют;Техничес...</td>\n",
       "      <td>Нет;Нет</td>\n",
       "    </tr>\n",
       "    <tr>\n",
       "      <th>4</th>\n",
       "      <td>4</td>\n",
       "      <td>37.636467</td>\n",
       "      <td>55.805098</td>\n",
       "      <td>Падение пассажира</td>\n",
       "      <td>01.01.2020</td>\n",
       "      <td>пр-кт Мира</td>\n",
       "      <td>NaN</td>\n",
       "      <td>1</td>\n",
       "      <td>2</td>\n",
       "      <td>1</td>\n",
       "      <td>...</td>\n",
       "      <td>Остановка общественного транспорта</td>\n",
       "      <td>Остановка общественного транспорта</td>\n",
       "      <td>Неподача или неправильная подача сигналов пово...</td>\n",
       "      <td>Нарушение правил перевозки людей;Нет нарушений</td>\n",
       "      <td>;</td>\n",
       "      <td>С передним приводом</td>\n",
       "      <td>Режим движения не изменялся</td>\n",
       "      <td>Сухое</td>\n",
       "      <td>Технические неисправности отсутствуют</td>\n",
       "      <td>Нет;Нет</td>\n",
       "    </tr>\n",
       "  </tbody>\n",
       "</table>\n",
       "<p>5 rows × 24 columns</p>\n",
       "</div>"
      ],
      "text/plain": [
       "   Unnamed: 0     coordL     coordW               DTPType        date  \\\n",
       "0           0  37.464817  55.758116  Наезд на препятствие  01.01.2020   \n",
       "1           1  37.388953  55.811338   Наезд на стоящее ТС  01.01.2020   \n",
       "2           2  37.623153  55.866787     Наезд на пешехода  01.01.2020   \n",
       "3           3  37.588413  55.660576          Столкновение  01.01.2020   \n",
       "4           4  37.636467  55.805098     Падение пассажира  01.01.2020   \n",
       "\n",
       "              street                                               road  \\\n",
       "0  ул Мнёвники Нижн.                                                NaN   \n",
       "1                NaN  Московская кольцевая автомобильная дорога (МКА...   \n",
       "2                NaN                                                NaN   \n",
       "3  ул Болотниковская                                                NaN   \n",
       "4         пр-кт Мира                                                NaN   \n",
       "\n",
       "   NVehicles  NPatricipants  NInjured  ...  \\\n",
       "0          1              1         1  ...   \n",
       "1          2              2         1  ...   \n",
       "2          1              2         1  ...   \n",
       "3          2              3         1  ...   \n",
       "4          1              2         1  ...   \n",
       "\n",
       "                       placeConditions  \\\n",
       "0  Перегон (нет объектов на месте ДТП)   \n",
       "1  Перегон (нет объектов на месте ДТП)   \n",
       "2            Внутридворовая территория   \n",
       "3      Регулируемый пешеходный переход   \n",
       "4   Остановка общественного транспорта   \n",
       "\n",
       "                                        closeObjects  \\\n",
       "0                 Остановка общественного транспорта   \n",
       "1  Отсутствие в непосредственной близости объекто...   \n",
       "2                            Административные здания   \n",
       "3                 Остановка общественного транспорта   \n",
       "4                 Остановка общественного транспорта   \n",
       "\n",
       "                                          violations  \\\n",
       "0  Несоответствие скорости конкретным условиям дв...   \n",
       "1  Несоответствие скорости конкретным условиям дв...   \n",
       "2                   Несоблюдение очередности проезда   \n",
       "3     Нет нарушений;Несоблюдение очередности проезда   \n",
       "4  Неподача или неправильная подача сигналов пово...   \n",
       "\n",
       "                             violationsAdditional alco  \\\n",
       "0                                   Нет нарушений  NaN   \n",
       "1                                   Нет нарушений  NaN   \n",
       "2                  Другие нарушения ПДД водителем  NaN   \n",
       "3                     Нет нарушений;Нет нарушений    ;   \n",
       "4  Нарушение правил перевозки людей;Нет нарушений    ;   \n",
       "\n",
       "                                    privod               traffic_regime  \\\n",
       "0                      С передним приводом  Режим движения не изменялся   \n",
       "1  С передним приводом;С передним приводом  Движение частично перекрыто   \n",
       "2    Иное расположение рулевого управления  Режим движения не изменялся   \n",
       "3  С передним приводом;С передним приводом  Движение частично перекрыто   \n",
       "4                      С передним приводом  Режим движения не изменялся   \n",
       "\n",
       "                                      pokritie  \\\n",
       "0  Обработанное противогололедными материалами   \n",
       "1                                        Сухое   \n",
       "2                                        Сухое   \n",
       "3                                       Мокрое   \n",
       "4                                        Сухое   \n",
       "\n",
       "                                       neispravnosti safety_belt  \n",
       "0              Технические неисправности отсутствуют         Нет  \n",
       "1  Технические неисправности отсутствуют;Техничес...         Нет  \n",
       "2              Технические неисправности отсутствуют         Нет  \n",
       "3  Технические неисправности отсутствуют;Техничес...     Нет;Нет  \n",
       "4              Технические неисправности отсутствуют     Нет;Нет  \n",
       "\n",
       "[5 rows x 24 columns]"
      ]
     },
     "execution_count": 397,
     "metadata": {},
     "output_type": "execute_result"
    }
   ],
   "source": [
    "df = pd.read_csv(\"6 Аварии/date.csv\")\n",
    "df.head()"
   ]
  },
  {
   "cell_type": "markdown",
   "id": "c7eef5f0",
   "metadata": {},
   "source": [
    "### Для начала посмотрим уникальные значения качественных переменных и кол-во каждого типа"
   ]
  },
  {
   "cell_type": "markdown",
   "id": "7857def0",
   "metadata": {},
   "source": [
    "Для этого напишем функцию counts"
   ]
  },
  {
   "cell_type": "code",
   "execution_count": 398,
   "id": "469aaf73",
   "metadata": {},
   "outputs": [],
   "source": [
    "def counts(name: str, df=df):\n",
    "    series = df[name]\n",
    "    allValues = {value: (series == value).sum() for value in series.unique()}\n",
    "    allValues = {k: v for k, v in sorted(allValues.items(), key=lambda item: -item[1])}\n",
    "    for elem in allValues:\n",
    "        print(f\"{elem}: {allValues[elem]}\")"
   ]
  },
  {
   "cell_type": "markdown",
   "id": "14f56421",
   "metadata": {},
   "source": [
    "для начала поработаем с lightConditions"
   ]
  },
  {
   "cell_type": "code",
   "execution_count": 322,
   "id": "4cd3cc16",
   "metadata": {},
   "outputs": [
    {
     "data": {
      "text/plain": [
       "0    В темное время суток, освещение включено\n",
       "1                         Светлое время суток\n",
       "2                         Светлое время суток\n",
       "3    В темное время суток, освещение включено\n",
       "4    В темное время суток, освещение включено\n",
       "Name: lightConditions, dtype: object"
      ]
     },
     "execution_count": 322,
     "metadata": {},
     "output_type": "execute_result"
    }
   ],
   "source": [
    "df[\"lightConditions\"].head()"
   ]
  },
  {
   "cell_type": "code",
   "execution_count": 323,
   "id": "c797a4e5",
   "metadata": {},
   "outputs": [
    {
     "name": "stdout",
     "output_type": "stream",
     "text": [
      "Светлое время суток: 4624\n",
      "В темное время суток, освещение включено: 3193\n",
      "Сумерки: 96\n",
      "В темное время суток, освещение отсутствует: 36\n",
      "В темное время суток, освещение не включено: 15\n"
     ]
    }
   ],
   "source": [
    "counts(\"lightConditions\")"
   ]
  },
  {
   "cell_type": "markdown",
   "id": "56606067",
   "metadata": {},
   "source": [
    "Сумерки можно приравнять к \"В темное время суток, освещение включено\""
   ]
  },
  {
   "cell_type": "markdown",
   "id": "657ba0a0",
   "metadata": {},
   "source": [
    "ситуаций с отсутствием освещения было всего 51 из 7964, что составляет чуть больше, чем 0.5% всех данных. Поэтому если приравнять их все к \"Светлое время суток\", на исследование это не повлияет"
   ]
  },
  {
   "cell_type": "code",
   "execution_count": 324,
   "id": "5e100b15",
   "metadata": {},
   "outputs": [
    {
     "name": "stdout",
     "output_type": "stream",
     "text": [
      "Светлое время суток: 4675\n",
      "В темное время суток, освещение включено: 3289\n"
     ]
    }
   ],
   "source": [
    "changeLight = {\n",
    "    \"Сумерки\": \"В темное время суток, освещение включено\",\n",
    "    \"В темное время суток, освещение не включено\": \"Светлое время суток\",\n",
    "    \"В темное время суток, освещение отсутствует\": \"Светлое время суток\"\n",
    "}\n",
    "df[\"lightConditions\"] = df[\"lightConditions\"].replace(changeLight)\n",
    "counts(\"lightConditions\")"
   ]
  },
  {
   "cell_type": "markdown",
   "id": "c1f8c00d",
   "metadata": {},
   "source": [
    "Теперь посмотрим на погодные условия"
   ]
  },
  {
   "cell_type": "code",
   "execution_count": 325,
   "id": "833781b5",
   "metadata": {},
   "outputs": [
    {
     "name": "stdout",
     "output_type": "stream",
     "text": [
      "Пасмурно: 4294\n",
      "Ясно: 3261\n",
      "Дождь: 294\n",
      "Снегопад: 112\n",
      "Туман: 3\n"
     ]
    }
   ],
   "source": [
    "counts(\"weatherConditions\")"
   ]
  },
  {
   "cell_type": "markdown",
   "id": "5407e668",
   "metadata": {},
   "source": [
    "Заменим Снегопад, Дождь и туман на осадки"
   ]
  },
  {
   "cell_type": "code",
   "execution_count": 326,
   "id": "b16abddd",
   "metadata": {},
   "outputs": [
    {
     "name": "stdout",
     "output_type": "stream",
     "text": [
      "Пасмурно: 4294\n",
      "Ясно: 3261\n",
      "Осадки: 409\n"
     ]
    }
   ],
   "source": [
    "df[\"weatherConditions\"] = df[\"weatherConditions\"].replace([\"Снегопад\", \"Дождь\", \"Туман\"], \"Осадки\")\n",
    "counts(\"weatherConditions\")"
   ]
  },
  {
   "cell_type": "markdown",
   "id": "ab65ef08",
   "metadata": {},
   "source": [
    "Теперь посмотрим на состояние дорожного покрытия"
   ]
  },
  {
   "cell_type": "code",
   "execution_count": 327,
   "id": "9d13ef9e",
   "metadata": {
    "scrolled": true
   },
   "outputs": [
    {
     "name": "stdout",
     "output_type": "stream",
     "text": [
      "Сухое: 4831\n",
      "Мокрое: 2540\n",
      "Обработанное противогололедными материалами: 376\n",
      "Заснеженное: 179\n",
      "Загрязненное: 19\n",
      "Гололедица: 13\n",
      "Со снежным накатом: 4\n",
      "Свежеуложенная поверхностная обработка: 2\n"
     ]
    }
   ],
   "source": [
    "counts(\"pokritie\")"
   ]
  },
  {
   "cell_type": "markdown",
   "id": "74cf07f6",
   "metadata": {},
   "source": [
    "Обработанное противогололедными материалами можно приравнять к сухому"
   ]
  },
  {
   "cell_type": "markdown",
   "id": "8c69a349",
   "metadata": {},
   "source": [
    "последние 5 типов встречаются суммарно менее чем в 3% случаев. так что можно приравнять к мокрому покрытию"
   ]
  },
  {
   "cell_type": "code",
   "execution_count": 328,
   "id": "601bb635",
   "metadata": {},
   "outputs": [
    {
     "name": "stdout",
     "output_type": "stream",
     "text": [
      "Сухое: 5207\n",
      "Мокрое: 2757\n"
     ]
    }
   ],
   "source": [
    "df[\"pokritie\"] = df[\"pokritie\"].replace([\"Гололедица\", \"Заснеженное\", \"Загрязненное\", \"Со снежным накатом\", \"Свежеуложенная поверхностная обработка\"], \"Мокрое\")\n",
    "df[\"pokritie\"] = df[\"pokritie\"].replace(\"Обработанное противогололедными материалами\", \"Сухое\")\n",
    "counts(\"pokritie\")"
   ]
  },
  {
   "cell_type": "markdown",
   "id": "5ba86593",
   "metadata": {},
   "source": [
    "Теперь стоит поделить все измерения на отдельные автомобили. В каждом измерении известно сколько было автомодибей. Также хранится нформация про тип привода и наличие изначальных технических неисправнойтей каждого"
   ]
  },
  {
   "cell_type": "markdown",
   "id": "f378e549",
   "metadata": {},
   "source": [
    "Для начала исследуем эти переменные"
   ]
  },
  {
   "cell_type": "code",
   "execution_count": 329,
   "id": "83ded24f",
   "metadata": {},
   "outputs": [
    {
     "data": {
      "text/plain": [
       "0"
      ]
     },
     "execution_count": 329,
     "metadata": {},
     "output_type": "execute_result"
    }
   ],
   "source": [
    "NVehicles = df[\"NVehicles\"]\n",
    "NVehicles.isna().sum()"
   ]
  },
  {
   "cell_type": "code",
   "execution_count": 330,
   "id": "3170c618",
   "metadata": {},
   "outputs": [
    {
     "data": {
      "text/plain": [
       "43"
      ]
     },
     "execution_count": 330,
     "metadata": {},
     "output_type": "execute_result"
    }
   ],
   "source": [
    "privod = df[\"privod\"]\n",
    "privod.isna().sum()"
   ]
  },
  {
   "cell_type": "code",
   "execution_count": 331,
   "id": "c35743d4",
   "metadata": {},
   "outputs": [
    {
     "data": {
      "text/plain": [
       "0"
      ]
     },
     "execution_count": 331,
     "metadata": {},
     "output_type": "execute_result"
    }
   ],
   "source": [
    "neispravnosti = df[\"neispravnosti\"]\n",
    "neispravnosti.isna().sum()"
   ]
  },
  {
   "cell_type": "markdown",
   "id": "cef4f4c8",
   "metadata": {},
   "source": [
    "Видим, что в privod имеется 43 пропущенных значения. Пока заполним их False"
   ]
  },
  {
   "cell_type": "code",
   "execution_count": 332,
   "id": "7a7b9ebe",
   "metadata": {},
   "outputs": [
    {
     "data": {
      "text/plain": [
       "0"
      ]
     },
     "execution_count": 332,
     "metadata": {},
     "output_type": "execute_result"
    }
   ],
   "source": [
    "privod = privod.fillna(False)\n",
    "df[\"privod\"] = privod\n",
    "privod.isna().sum()"
   ]
  },
  {
   "cell_type": "markdown",
   "id": "d62ea20b",
   "metadata": {},
   "source": [
    "Теперь проверим, что в каждом измерении информация о приводе и нарушении есть для всех машин"
   ]
  },
  {
   "cell_type": "code",
   "execution_count": 363,
   "id": "81b39a14",
   "metadata": {},
   "outputs": [],
   "source": [
    "privodValues = []\n",
    "neispravnostiValues = []\n",
    "\n",
    "for i in range(NVehicles.shape[0]):\n",
    "    if privod[i]:\n",
    "        privodValues.append((privod[i].count(\";\") + 1) == NVehicles[i])\n",
    "        # ; разграничивает разные машины. поэтому кол-во машин = кол-ву ; + 1\n",
    "    neispravnostiValues.append((neispravnosti[i].count(\";\") + 1) == NVehicles[i])"
   ]
  },
  {
   "cell_type": "code",
   "execution_count": 364,
   "id": "8b77a8e8",
   "metadata": {},
   "outputs": [
    {
     "data": {
      "text/plain": [
       "True"
      ]
     },
     "execution_count": 364,
     "metadata": {},
     "output_type": "execute_result"
    }
   ],
   "source": [
    "all(privodValues)"
   ]
  },
  {
   "cell_type": "code",
   "execution_count": 365,
   "id": "d8378a70",
   "metadata": {},
   "outputs": [
    {
     "data": {
      "text/plain": [
       "True"
      ]
     },
     "execution_count": 365,
     "metadata": {},
     "output_type": "execute_result"
    }
   ],
   "source": [
    "all(neispravnostiValues)"
   ]
  },
  {
   "cell_type": "markdown",
   "id": "52f91c4b",
   "metadata": {},
   "source": [
    "Видим, что нет аномалий в данных. так что можно спокойно разделять все эти измерения на отдельные машины. Если людей было больше, чем машин, то делить будем поравну"
   ]
  },
  {
   "cell_type": "code",
   "execution_count": 366,
   "id": "67abf545",
   "metadata": {},
   "outputs": [
    {
     "name": "stdout",
     "output_type": "stream",
     "text": [
      "Нет: 6499\n",
      "Нет;Нет: 1189\n",
      "Нет;Нет;Нет: 140\n",
      "Да: 24\n",
      "Нет;Нет;Нет;Нет: 23\n",
      "Да;Нет: 3\n",
      "Нет;Да: 3\n",
      "Нет;Нет;Нет;Нет;Да: 1\n",
      "Нет;Нет;Нет;Да: 1\n",
      "Нет;Нет;Нет;Да;Нет;Нет;Нет: 1\n",
      "Нет;Нет;Нет;Нет;Нет: 1\n",
      "Нет;Да;Нет: 1\n",
      "Нет;Нет;Нет;Нет;Нет;Нет: 1\n",
      "Нет;Нет;Нет;Нет;Нет;Нет;Нет: 1\n",
      "nan: 0\n"
     ]
    }
   ],
   "source": [
    "counts(\"safety_belt\")"
   ]
  },
  {
   "cell_type": "code",
   "execution_count": 367,
   "id": "020874e9",
   "metadata": {},
   "outputs": [
    {
     "data": {
      "text/plain": [
       "76"
      ]
     },
     "execution_count": 367,
     "metadata": {},
     "output_type": "execute_result"
    }
   ],
   "source": [
    "df[\"safety_belt\"].isna().sum()"
   ]
  },
  {
   "cell_type": "markdown",
   "id": "a5fcfffe",
   "metadata": {},
   "source": [
    "видно, что значение \"да\" в выборке есть только у 32 людей и значение нет более чем у 8000. значит эту переменную не имеет смысла рассматривать в нашем исследовании"
   ]
  },
  {
   "cell_type": "markdown",
   "id": "adbba5fd",
   "metadata": {},
   "source": [
    "Теперь поменяем наши данные. Они будут рассмотрены не для каждого дтп, а для каждого человека. то есть если в дтп попали 3 человека, то это будет 3 измерения"
   ]
  },
  {
   "cell_type": "markdown",
   "id": "a5d6d3d0",
   "metadata": {},
   "source": [
    "запишем кол-во машин в ДТП и кол-во участников в отдельные переменные"
   ]
  },
  {
   "cell_type": "code",
   "execution_count": 368,
   "id": "c5119aaa",
   "metadata": {},
   "outputs": [],
   "source": [
    "NVehicles = df[\"NVehicles\"]\n",
    "NPatricipants = df[\"NPatricipants\"]"
   ]
  },
  {
   "cell_type": "markdown",
   "id": "7eadd66b",
   "metadata": {},
   "source": [
    "Обозначим список, в который будем всё сохранять и названия всех столбцов итогового датасета"
   ]
  },
  {
   "cell_type": "code",
   "execution_count": 369,
   "id": "5711de73",
   "metadata": {},
   "outputs": [],
   "source": [
    "new_arr = []\n",
    "\n",
    "columns = [\"coordL\", \"coordW\", \"NInjured\", \"lightConditions\", \"weatherConditions\",\n",
    "           \"privod\", \"pokritie\", \"neispravnosti\"]"
   ]
  },
  {
   "cell_type": "markdown",
   "id": "4b29d244",
   "metadata": {},
   "source": [
    "теперь напишем функцию разбиения людей по машинам"
   ]
  },
  {
   "cell_type": "code",
   "execution_count": 370,
   "id": "2e62ec40",
   "metadata": {},
   "outputs": [],
   "source": [
    "def razbienie(peoples, cars):\n",
    "    result = [peoples // cars] * cars\n",
    "    for i in range(peoples % cars):\n",
    "        result[i] += 1\n",
    "    return result"
   ]
  },
  {
   "cell_type": "markdown",
   "id": "d595486a",
   "metadata": {},
   "source": [
    "Также добавим небольшой сдвиг каждой координаты, чтобы позже было удобнее визуализировать данные"
   ]
  },
  {
   "cell_type": "code",
   "execution_count": 371,
   "id": "933dc20c",
   "metadata": {},
   "outputs": [],
   "source": [
    "from random import random\n",
    "\n",
    "def sdvigs(peoples):\n",
    "    result = [((random() - 0.5) / 5000, (random() - 0.5) / 5000) for _ in range(peoples)]\n",
    "    return result"
   ]
  },
  {
   "cell_type": "markdown",
   "id": "f561e3df",
   "metadata": {},
   "source": [
    "и запустим цикл, в котором перепишем каждое значение датафрейма"
   ]
  },
  {
   "cell_type": "code",
   "execution_count": 372,
   "id": "e8a4e388",
   "metadata": {},
   "outputs": [],
   "source": [
    "for i in range(NVehicles.shape[0]):\n",
    "    line = df.iloc[i][columns]\n",
    "    peoples = razbienie(NPatricipants[i], NVehicles[i])\n",
    "    injured = razbienie(line[\"NInjured\"], NVehicles[i])\n",
    "    sdvig = sdvigs(NPatricipants[i])\n",
    "    cur_privods = line[\"privod\"]\n",
    "    counter = 0\n",
    "    if cur_privods:\n",
    "        cur_privods = cur_privods.split(\";\")\n",
    "    else:\n",
    "        continue\n",
    "    cur_neispravnosti = line[\"neispravnosti\"].split(\";\")\n",
    "    for j in range(NVehicles[i]):\n",
    "        current_injured = injured[j]\n",
    "        current_privod = cur_privods[j]\n",
    "        current_neispravnosti = cur_neispravnosti[j]\n",
    "        coordL, coordW, lightConditions, weatherConditions, pokritie = [line[elem] for elem in\n",
    "                                                                                         [\"coordL\", \"coordW\",\n",
    "                                                                                          \"lightConditions\",\n",
    "                                                                                          \"weatherConditions\",\n",
    "                                                                                          \"pokritie\"]]\n",
    "        \n",
    "        current_peoples = peoples[j]\n",
    "        for k in range(current_peoples):\n",
    "            this_injured = 1 if k < current_injured else 0\n",
    "            people = [coordL + sdvig[counter][0], coordW + sdvig[counter][1], this_injured,\n",
    "                    lightConditions, weatherConditions,\n",
    "                    current_privod, pokritie, current_neispravnosti]\n",
    "            new_arr.append(people)\n",
    "            counter += 1"
   ]
  },
  {
   "cell_type": "code",
   "execution_count": 373,
   "id": "79e6c56b",
   "metadata": {},
   "outputs": [
    {
     "data": {
      "text/plain": [
       "[[37.46477758125692,\n",
       "  55.75804011756304,\n",
       "  1,\n",
       "  'В темное время суток, освещение включено',\n",
       "  'Пасмурно',\n",
       "  'С передним приводом',\n",
       "  'Сухое',\n",
       "  'Технические неисправности отсутствуют'],\n",
       " [37.38891666929339,\n",
       "  55.811425035597054,\n",
       "  1,\n",
       "  'Светлое время суток',\n",
       "  'Ясно',\n",
       "  'С передним приводом',\n",
       "  'Сухое',\n",
       "  'Технические неисправности отсутствуют']]"
      ]
     },
     "execution_count": 373,
     "metadata": {},
     "output_type": "execute_result"
    }
   ],
   "source": [
    "new_arr[:2]"
   ]
  },
  {
   "cell_type": "markdown",
   "id": "a9f3cc37",
   "metadata": {},
   "source": [
    "Видим, что в new_arr сохранилась необходимая информация. осталось только сделать из этого датафрейм"
   ]
  },
  {
   "cell_type": "code",
   "execution_count": 374,
   "id": "6476eeb4",
   "metadata": {},
   "outputs": [
    {
     "data": {
      "text/html": [
       "<div>\n",
       "<style scoped>\n",
       "    .dataframe tbody tr th:only-of-type {\n",
       "        vertical-align: middle;\n",
       "    }\n",
       "\n",
       "    .dataframe tbody tr th {\n",
       "        vertical-align: top;\n",
       "    }\n",
       "\n",
       "    .dataframe thead th {\n",
       "        text-align: right;\n",
       "    }\n",
       "</style>\n",
       "<table border=\"1\" class=\"dataframe\">\n",
       "  <thead>\n",
       "    <tr style=\"text-align: right;\">\n",
       "      <th></th>\n",
       "      <th>coordL</th>\n",
       "      <th>coordW</th>\n",
       "      <th>NInjured</th>\n",
       "      <th>lightConditions</th>\n",
       "      <th>weatherConditions</th>\n",
       "      <th>privod</th>\n",
       "      <th>pokritie</th>\n",
       "      <th>neispravnosti</th>\n",
       "    </tr>\n",
       "  </thead>\n",
       "  <tbody>\n",
       "    <tr>\n",
       "      <th>0</th>\n",
       "      <td>37.464778</td>\n",
       "      <td>55.758040</td>\n",
       "      <td>1</td>\n",
       "      <td>В темное время суток, освещение включено</td>\n",
       "      <td>Пасмурно</td>\n",
       "      <td>С передним приводом</td>\n",
       "      <td>Сухое</td>\n",
       "      <td>Технические неисправности отсутствуют</td>\n",
       "    </tr>\n",
       "    <tr>\n",
       "      <th>1</th>\n",
       "      <td>37.388917</td>\n",
       "      <td>55.811425</td>\n",
       "      <td>1</td>\n",
       "      <td>Светлое время суток</td>\n",
       "      <td>Ясно</td>\n",
       "      <td>С передним приводом</td>\n",
       "      <td>Сухое</td>\n",
       "      <td>Технические неисправности отсутствуют</td>\n",
       "    </tr>\n",
       "    <tr>\n",
       "      <th>2</th>\n",
       "      <td>37.388920</td>\n",
       "      <td>55.811375</td>\n",
       "      <td>0</td>\n",
       "      <td>Светлое время суток</td>\n",
       "      <td>Ясно</td>\n",
       "      <td>С передним приводом</td>\n",
       "      <td>Сухое</td>\n",
       "      <td>Технические неисправности отсутствуют</td>\n",
       "    </tr>\n",
       "    <tr>\n",
       "      <th>3</th>\n",
       "      <td>37.623161</td>\n",
       "      <td>55.866810</td>\n",
       "      <td>1</td>\n",
       "      <td>Светлое время суток</td>\n",
       "      <td>Пасмурно</td>\n",
       "      <td>Иное расположение рулевого управления</td>\n",
       "      <td>Сухое</td>\n",
       "      <td>Технические неисправности отсутствуют</td>\n",
       "    </tr>\n",
       "    <tr>\n",
       "      <th>4</th>\n",
       "      <td>37.623190</td>\n",
       "      <td>55.866790</td>\n",
       "      <td>0</td>\n",
       "      <td>Светлое время суток</td>\n",
       "      <td>Пасмурно</td>\n",
       "      <td>Иное расположение рулевого управления</td>\n",
       "      <td>Сухое</td>\n",
       "      <td>Технические неисправности отсутствуют</td>\n",
       "    </tr>\n",
       "  </tbody>\n",
       "</table>\n",
       "</div>"
      ],
      "text/plain": [
       "      coordL     coordW  NInjured                           lightConditions  \\\n",
       "0  37.464778  55.758040         1  В темное время суток, освещение включено   \n",
       "1  37.388917  55.811425         1                       Светлое время суток   \n",
       "2  37.388920  55.811375         0                       Светлое время суток   \n",
       "3  37.623161  55.866810         1                       Светлое время суток   \n",
       "4  37.623190  55.866790         0                       Светлое время суток   \n",
       "\n",
       "  weatherConditions                                 privod pokritie  \\\n",
       "0          Пасмурно                    С передним приводом    Сухое   \n",
       "1              Ясно                    С передним приводом    Сухое   \n",
       "2              Ясно                    С передним приводом    Сухое   \n",
       "3          Пасмурно  Иное расположение рулевого управления    Сухое   \n",
       "4          Пасмурно  Иное расположение рулевого управления    Сухое   \n",
       "\n",
       "                           neispravnosti  \n",
       "0  Технические неисправности отсутствуют  \n",
       "1  Технические неисправности отсутствуют  \n",
       "2  Технические неисправности отсутствуют  \n",
       "3  Технические неисправности отсутствуют  \n",
       "4  Технические неисправности отсутствуют  "
      ]
     },
     "execution_count": 374,
     "metadata": {},
     "output_type": "execute_result"
    }
   ],
   "source": [
    "new_df = pd.DataFrame(data=new_arr, columns=columns)\n",
    "new_df.head()"
   ]
  },
  {
   "cell_type": "markdown",
   "id": "7b193d0a",
   "metadata": {},
   "source": [
    "теперь приведём все качественные переменные в логический формат"
   ]
  },
  {
   "cell_type": "markdown",
   "id": "83d72375",
   "metadata": {},
   "source": [
    "Сначала lightConditions"
   ]
  },
  {
   "cell_type": "code",
   "execution_count": 375,
   "id": "4128b6f7",
   "metadata": {},
   "outputs": [
    {
     "name": "stdout",
     "output_type": "stream",
     "text": [
      "Светлое время суток: 11164\n",
      "В темное время суток, освещение включено: 7919\n"
     ]
    }
   ],
   "source": [
    "counts(\"lightConditions\", df=new_df)"
   ]
  },
  {
   "cell_type": "code",
   "execution_count": 376,
   "id": "73de86cd",
   "metadata": {},
   "outputs": [
    {
     "data": {
      "text/html": [
       "<div>\n",
       "<style scoped>\n",
       "    .dataframe tbody tr th:only-of-type {\n",
       "        vertical-align: middle;\n",
       "    }\n",
       "\n",
       "    .dataframe tbody tr th {\n",
       "        vertical-align: top;\n",
       "    }\n",
       "\n",
       "    .dataframe thead th {\n",
       "        text-align: right;\n",
       "    }\n",
       "</style>\n",
       "<table border=\"1\" class=\"dataframe\">\n",
       "  <thead>\n",
       "    <tr style=\"text-align: right;\">\n",
       "      <th></th>\n",
       "      <th>coordL</th>\n",
       "      <th>coordW</th>\n",
       "      <th>NInjured</th>\n",
       "      <th>isLight</th>\n",
       "      <th>weatherConditions</th>\n",
       "      <th>privod</th>\n",
       "      <th>pokritie</th>\n",
       "      <th>neispravnosti</th>\n",
       "    </tr>\n",
       "  </thead>\n",
       "  <tbody>\n",
       "    <tr>\n",
       "      <th>0</th>\n",
       "      <td>37.464778</td>\n",
       "      <td>55.758040</td>\n",
       "      <td>1</td>\n",
       "      <td>0</td>\n",
       "      <td>Пасмурно</td>\n",
       "      <td>С передним приводом</td>\n",
       "      <td>Сухое</td>\n",
       "      <td>Технические неисправности отсутствуют</td>\n",
       "    </tr>\n",
       "    <tr>\n",
       "      <th>1</th>\n",
       "      <td>37.388917</td>\n",
       "      <td>55.811425</td>\n",
       "      <td>1</td>\n",
       "      <td>1</td>\n",
       "      <td>Ясно</td>\n",
       "      <td>С передним приводом</td>\n",
       "      <td>Сухое</td>\n",
       "      <td>Технические неисправности отсутствуют</td>\n",
       "    </tr>\n",
       "    <tr>\n",
       "      <th>2</th>\n",
       "      <td>37.388920</td>\n",
       "      <td>55.811375</td>\n",
       "      <td>0</td>\n",
       "      <td>1</td>\n",
       "      <td>Ясно</td>\n",
       "      <td>С передним приводом</td>\n",
       "      <td>Сухое</td>\n",
       "      <td>Технические неисправности отсутствуют</td>\n",
       "    </tr>\n",
       "    <tr>\n",
       "      <th>3</th>\n",
       "      <td>37.623161</td>\n",
       "      <td>55.866810</td>\n",
       "      <td>1</td>\n",
       "      <td>1</td>\n",
       "      <td>Пасмурно</td>\n",
       "      <td>Иное расположение рулевого управления</td>\n",
       "      <td>Сухое</td>\n",
       "      <td>Технические неисправности отсутствуют</td>\n",
       "    </tr>\n",
       "    <tr>\n",
       "      <th>4</th>\n",
       "      <td>37.623190</td>\n",
       "      <td>55.866790</td>\n",
       "      <td>0</td>\n",
       "      <td>1</td>\n",
       "      <td>Пасмурно</td>\n",
       "      <td>Иное расположение рулевого управления</td>\n",
       "      <td>Сухое</td>\n",
       "      <td>Технические неисправности отсутствуют</td>\n",
       "    </tr>\n",
       "  </tbody>\n",
       "</table>\n",
       "</div>"
      ],
      "text/plain": [
       "      coordL     coordW  NInjured  isLight weatherConditions  \\\n",
       "0  37.464778  55.758040         1        0          Пасмурно   \n",
       "1  37.388917  55.811425         1        1              Ясно   \n",
       "2  37.388920  55.811375         0        1              Ясно   \n",
       "3  37.623161  55.866810         1        1          Пасмурно   \n",
       "4  37.623190  55.866790         0        1          Пасмурно   \n",
       "\n",
       "                                  privod pokritie  \\\n",
       "0                    С передним приводом    Сухое   \n",
       "1                    С передним приводом    Сухое   \n",
       "2                    С передним приводом    Сухое   \n",
       "3  Иное расположение рулевого управления    Сухое   \n",
       "4  Иное расположение рулевого управления    Сухое   \n",
       "\n",
       "                           neispravnosti  \n",
       "0  Технические неисправности отсутствуют  \n",
       "1  Технические неисправности отсутствуют  \n",
       "2  Технические неисправности отсутствуют  \n",
       "3  Технические неисправности отсутствуют  \n",
       "4  Технические неисправности отсутствуют  "
      ]
     },
     "execution_count": 376,
     "metadata": {},
     "output_type": "execute_result"
    }
   ],
   "source": [
    "new_df[\"lightConditions\"] = (new_df[\"lightConditions\"] == \"Светлое время суток\").astype('int32')\n",
    "new_df = new_df.rename(columns={\"lightConditions\": \"isLight\"})\n",
    "new_df.head()"
   ]
  },
  {
   "cell_type": "markdown",
   "id": "77c0093e",
   "metadata": {},
   "source": [
    "теперь weatherConditions"
   ]
  },
  {
   "cell_type": "code",
   "execution_count": 377,
   "id": "7e0862b5",
   "metadata": {},
   "outputs": [
    {
     "name": "stdout",
     "output_type": "stream",
     "text": [
      "Пасмурно: 10298\n",
      "Ясно: 7789\n",
      "Осадки: 996\n"
     ]
    }
   ],
   "source": [
    "counts(\"weatherConditions\", df=new_df)"
   ]
  },
  {
   "cell_type": "markdown",
   "id": "7984d435",
   "metadata": {},
   "source": [
    "для этой переменной придётся провести one-hot encoding. Оставим переменные Ясно и Пасмурно"
   ]
  },
  {
   "cell_type": "code",
   "execution_count": 378,
   "id": "66437397",
   "metadata": {},
   "outputs": [],
   "source": [
    "isClear = (new_df[\"weatherConditions\"] == \"Ясно\").astype('int32')\n",
    "isCloudy = (new_df[\"weatherConditions\"] == \"Пасмурно\").astype('int32')"
   ]
  },
  {
   "cell_type": "code",
   "execution_count": 379,
   "id": "b4cb4366",
   "metadata": {},
   "outputs": [],
   "source": [
    "new_df[\"isClear\"] = isClear\n",
    "new_df[\"isCloudy\"] = isCloudy"
   ]
  },
  {
   "cell_type": "code",
   "execution_count": 380,
   "id": "08114cce",
   "metadata": {},
   "outputs": [],
   "source": [
    "new_df = new_df.drop('weatherConditions', axis=1)"
   ]
  },
  {
   "cell_type": "code",
   "execution_count": 381,
   "id": "d19cda28",
   "metadata": {
    "scrolled": true
   },
   "outputs": [
    {
     "data": {
      "text/html": [
       "<div>\n",
       "<style scoped>\n",
       "    .dataframe tbody tr th:only-of-type {\n",
       "        vertical-align: middle;\n",
       "    }\n",
       "\n",
       "    .dataframe tbody tr th {\n",
       "        vertical-align: top;\n",
       "    }\n",
       "\n",
       "    .dataframe thead th {\n",
       "        text-align: right;\n",
       "    }\n",
       "</style>\n",
       "<table border=\"1\" class=\"dataframe\">\n",
       "  <thead>\n",
       "    <tr style=\"text-align: right;\">\n",
       "      <th></th>\n",
       "      <th>coordL</th>\n",
       "      <th>coordW</th>\n",
       "      <th>NInjured</th>\n",
       "      <th>isLight</th>\n",
       "      <th>privod</th>\n",
       "      <th>pokritie</th>\n",
       "      <th>neispravnosti</th>\n",
       "      <th>isClear</th>\n",
       "      <th>isCloudy</th>\n",
       "    </tr>\n",
       "  </thead>\n",
       "  <tbody>\n",
       "    <tr>\n",
       "      <th>0</th>\n",
       "      <td>37.464778</td>\n",
       "      <td>55.758040</td>\n",
       "      <td>1</td>\n",
       "      <td>0</td>\n",
       "      <td>С передним приводом</td>\n",
       "      <td>Сухое</td>\n",
       "      <td>Технические неисправности отсутствуют</td>\n",
       "      <td>0</td>\n",
       "      <td>1</td>\n",
       "    </tr>\n",
       "    <tr>\n",
       "      <th>1</th>\n",
       "      <td>37.388917</td>\n",
       "      <td>55.811425</td>\n",
       "      <td>1</td>\n",
       "      <td>1</td>\n",
       "      <td>С передним приводом</td>\n",
       "      <td>Сухое</td>\n",
       "      <td>Технические неисправности отсутствуют</td>\n",
       "      <td>1</td>\n",
       "      <td>0</td>\n",
       "    </tr>\n",
       "    <tr>\n",
       "      <th>2</th>\n",
       "      <td>37.388920</td>\n",
       "      <td>55.811375</td>\n",
       "      <td>0</td>\n",
       "      <td>1</td>\n",
       "      <td>С передним приводом</td>\n",
       "      <td>Сухое</td>\n",
       "      <td>Технические неисправности отсутствуют</td>\n",
       "      <td>1</td>\n",
       "      <td>0</td>\n",
       "    </tr>\n",
       "    <tr>\n",
       "      <th>3</th>\n",
       "      <td>37.623161</td>\n",
       "      <td>55.866810</td>\n",
       "      <td>1</td>\n",
       "      <td>1</td>\n",
       "      <td>Иное расположение рулевого управления</td>\n",
       "      <td>Сухое</td>\n",
       "      <td>Технические неисправности отсутствуют</td>\n",
       "      <td>0</td>\n",
       "      <td>1</td>\n",
       "    </tr>\n",
       "    <tr>\n",
       "      <th>4</th>\n",
       "      <td>37.623190</td>\n",
       "      <td>55.866790</td>\n",
       "      <td>0</td>\n",
       "      <td>1</td>\n",
       "      <td>Иное расположение рулевого управления</td>\n",
       "      <td>Сухое</td>\n",
       "      <td>Технические неисправности отсутствуют</td>\n",
       "      <td>0</td>\n",
       "      <td>1</td>\n",
       "    </tr>\n",
       "  </tbody>\n",
       "</table>\n",
       "</div>"
      ],
      "text/plain": [
       "      coordL     coordW  NInjured  isLight  \\\n",
       "0  37.464778  55.758040         1        0   \n",
       "1  37.388917  55.811425         1        1   \n",
       "2  37.388920  55.811375         0        1   \n",
       "3  37.623161  55.866810         1        1   \n",
       "4  37.623190  55.866790         0        1   \n",
       "\n",
       "                                  privod pokritie  \\\n",
       "0                    С передним приводом    Сухое   \n",
       "1                    С передним приводом    Сухое   \n",
       "2                    С передним приводом    Сухое   \n",
       "3  Иное расположение рулевого управления    Сухое   \n",
       "4  Иное расположение рулевого управления    Сухое   \n",
       "\n",
       "                           neispravnosti  isClear  isCloudy  \n",
       "0  Технические неисправности отсутствуют        0         1  \n",
       "1  Технические неисправности отсутствуют        1         0  \n",
       "2  Технические неисправности отсутствуют        1         0  \n",
       "3  Технические неисправности отсутствуют        0         1  \n",
       "4  Технические неисправности отсутствуют        0         1  "
      ]
     },
     "execution_count": 381,
     "metadata": {},
     "output_type": "execute_result"
    }
   ],
   "source": [
    "new_df.head()"
   ]
  },
  {
   "cell_type": "markdown",
   "id": "5dbfeca6",
   "metadata": {},
   "source": [
    "Переменуем переменную NInjured в isInjured"
   ]
  },
  {
   "cell_type": "code",
   "execution_count": 382,
   "id": "97fd309b",
   "metadata": {},
   "outputs": [],
   "source": [
    "new_df = new_df.rename(columns={\"NInjured\": \"isInjured\"})"
   ]
  },
  {
   "cell_type": "markdown",
   "id": "8dc0ee08",
   "metadata": {},
   "source": [
    "Теперь посмотрим на переменную privod"
   ]
  },
  {
   "cell_type": "code",
   "execution_count": 383,
   "id": "09235a93",
   "metadata": {},
   "outputs": [
    {
     "name": "stdout",
     "output_type": "stream",
     "text": [
      "С передним приводом: 12074\n",
      "С задним приводом: 2665\n",
      "Полноприводные: 2294\n",
      "Иное расположение рулевого управления: 1456\n",
      ": 474\n",
      "Не заполнено: 120\n"
     ]
    }
   ],
   "source": [
    "counts(\"privod\", df=new_df)"
   ]
  },
  {
   "cell_type": "markdown",
   "id": "7cf4107c",
   "metadata": {},
   "source": [
    "заметим, что значение : можно считать незаполненым. Всего незаполненных значений около 500 из 19000. можно считать, что это с передним приводом"
   ]
  },
  {
   "cell_type": "code",
   "execution_count": 384,
   "id": "629f73a5",
   "metadata": {},
   "outputs": [
    {
     "name": "stdout",
     "output_type": "stream",
     "text": [
      "С передним приводом: 12668\n",
      "С задним приводом: 2665\n",
      "Полноприводные: 2294\n",
      "Иное расположение рулевого управления: 1456\n"
     ]
    }
   ],
   "source": [
    "new_df[\"privod\"] = new_df[\"privod\"].replace([\"Не заполнено\", \"\"], \"С передним приводом\")\n",
    "counts(\"privod\", df=new_df)"
   ]
  },
  {
   "cell_type": "markdown",
   "id": "90644741",
   "metadata": {},
   "source": [
    "Теперь используем one-hot encoding"
   ]
  },
  {
   "cell_type": "code",
   "execution_count": 385,
   "id": "b7fe0d9f",
   "metadata": {},
   "outputs": [],
   "source": [
    "new_df[\"isFront\"] = (new_df[\"privod\"] == \"С передним приводом\").astype('int32')\n",
    "new_df[\"isBack\"] = (new_df[\"privod\"] == \"С задним приводом\").astype('int32')\n",
    "new_df[\"isAll\"] = (new_df[\"privod\"] == \"Полноприводные\").astype('int32')\n",
    "new_df = new_df.drop('privod', axis=1)"
   ]
  },
  {
   "cell_type": "code",
   "execution_count": 386,
   "id": "c660e760",
   "metadata": {},
   "outputs": [
    {
     "data": {
      "text/html": [
       "<div>\n",
       "<style scoped>\n",
       "    .dataframe tbody tr th:only-of-type {\n",
       "        vertical-align: middle;\n",
       "    }\n",
       "\n",
       "    .dataframe tbody tr th {\n",
       "        vertical-align: top;\n",
       "    }\n",
       "\n",
       "    .dataframe thead th {\n",
       "        text-align: right;\n",
       "    }\n",
       "</style>\n",
       "<table border=\"1\" class=\"dataframe\">\n",
       "  <thead>\n",
       "    <tr style=\"text-align: right;\">\n",
       "      <th></th>\n",
       "      <th>coordL</th>\n",
       "      <th>coordW</th>\n",
       "      <th>isInjured</th>\n",
       "      <th>isLight</th>\n",
       "      <th>pokritie</th>\n",
       "      <th>neispravnosti</th>\n",
       "      <th>isClear</th>\n",
       "      <th>isCloudy</th>\n",
       "      <th>isFront</th>\n",
       "      <th>isBack</th>\n",
       "      <th>isAll</th>\n",
       "    </tr>\n",
       "  </thead>\n",
       "  <tbody>\n",
       "    <tr>\n",
       "      <th>0</th>\n",
       "      <td>37.464778</td>\n",
       "      <td>55.758040</td>\n",
       "      <td>1</td>\n",
       "      <td>0</td>\n",
       "      <td>Сухое</td>\n",
       "      <td>Технические неисправности отсутствуют</td>\n",
       "      <td>0</td>\n",
       "      <td>1</td>\n",
       "      <td>1</td>\n",
       "      <td>0</td>\n",
       "      <td>0</td>\n",
       "    </tr>\n",
       "    <tr>\n",
       "      <th>1</th>\n",
       "      <td>37.388917</td>\n",
       "      <td>55.811425</td>\n",
       "      <td>1</td>\n",
       "      <td>1</td>\n",
       "      <td>Сухое</td>\n",
       "      <td>Технические неисправности отсутствуют</td>\n",
       "      <td>1</td>\n",
       "      <td>0</td>\n",
       "      <td>1</td>\n",
       "      <td>0</td>\n",
       "      <td>0</td>\n",
       "    </tr>\n",
       "    <tr>\n",
       "      <th>2</th>\n",
       "      <td>37.388920</td>\n",
       "      <td>55.811375</td>\n",
       "      <td>0</td>\n",
       "      <td>1</td>\n",
       "      <td>Сухое</td>\n",
       "      <td>Технические неисправности отсутствуют</td>\n",
       "      <td>1</td>\n",
       "      <td>0</td>\n",
       "      <td>1</td>\n",
       "      <td>0</td>\n",
       "      <td>0</td>\n",
       "    </tr>\n",
       "    <tr>\n",
       "      <th>3</th>\n",
       "      <td>37.623161</td>\n",
       "      <td>55.866810</td>\n",
       "      <td>1</td>\n",
       "      <td>1</td>\n",
       "      <td>Сухое</td>\n",
       "      <td>Технические неисправности отсутствуют</td>\n",
       "      <td>0</td>\n",
       "      <td>1</td>\n",
       "      <td>0</td>\n",
       "      <td>0</td>\n",
       "      <td>0</td>\n",
       "    </tr>\n",
       "    <tr>\n",
       "      <th>4</th>\n",
       "      <td>37.623190</td>\n",
       "      <td>55.866790</td>\n",
       "      <td>0</td>\n",
       "      <td>1</td>\n",
       "      <td>Сухое</td>\n",
       "      <td>Технические неисправности отсутствуют</td>\n",
       "      <td>0</td>\n",
       "      <td>1</td>\n",
       "      <td>0</td>\n",
       "      <td>0</td>\n",
       "      <td>0</td>\n",
       "    </tr>\n",
       "  </tbody>\n",
       "</table>\n",
       "</div>"
      ],
      "text/plain": [
       "      coordL     coordW  isInjured  isLight pokritie  \\\n",
       "0  37.464778  55.758040          1        0    Сухое   \n",
       "1  37.388917  55.811425          1        1    Сухое   \n",
       "2  37.388920  55.811375          0        1    Сухое   \n",
       "3  37.623161  55.866810          1        1    Сухое   \n",
       "4  37.623190  55.866790          0        1    Сухое   \n",
       "\n",
       "                           neispravnosti  isClear  isCloudy  isFront  isBack  \\\n",
       "0  Технические неисправности отсутствуют        0         1        1       0   \n",
       "1  Технические неисправности отсутствуют        1         0        1       0   \n",
       "2  Технические неисправности отсутствуют        1         0        1       0   \n",
       "3  Технические неисправности отсутствуют        0         1        0       0   \n",
       "4  Технические неисправности отсутствуют        0         1        0       0   \n",
       "\n",
       "   isAll  \n",
       "0      0  \n",
       "1      0  \n",
       "2      0  \n",
       "3      0  \n",
       "4      0  "
      ]
     },
     "execution_count": 386,
     "metadata": {},
     "output_type": "execute_result"
    }
   ],
   "source": [
    "new_df.head()"
   ]
  },
  {
   "cell_type": "markdown",
   "id": "06252adf",
   "metadata": {},
   "source": [
    "Теперь посмотрим на переменную pokritie"
   ]
  },
  {
   "cell_type": "code",
   "execution_count": 387,
   "id": "c4a1f55b",
   "metadata": {},
   "outputs": [
    {
     "name": "stdout",
     "output_type": "stream",
     "text": [
      "Сухое: 12627\n",
      "Мокрое: 6456\n"
     ]
    }
   ],
   "source": [
    "counts(\"pokritie\", df=new_df)"
   ]
  },
  {
   "cell_type": "markdown",
   "id": "dbce9d9e",
   "metadata": {},
   "source": [
    "преобразуем её в isDry"
   ]
  },
  {
   "cell_type": "code",
   "execution_count": 388,
   "id": "95992637",
   "metadata": {},
   "outputs": [
    {
     "data": {
      "text/html": [
       "<div>\n",
       "<style scoped>\n",
       "    .dataframe tbody tr th:only-of-type {\n",
       "        vertical-align: middle;\n",
       "    }\n",
       "\n",
       "    .dataframe tbody tr th {\n",
       "        vertical-align: top;\n",
       "    }\n",
       "\n",
       "    .dataframe thead th {\n",
       "        text-align: right;\n",
       "    }\n",
       "</style>\n",
       "<table border=\"1\" class=\"dataframe\">\n",
       "  <thead>\n",
       "    <tr style=\"text-align: right;\">\n",
       "      <th></th>\n",
       "      <th>coordL</th>\n",
       "      <th>coordW</th>\n",
       "      <th>isInjured</th>\n",
       "      <th>isLight</th>\n",
       "      <th>isDry</th>\n",
       "      <th>neispravnosti</th>\n",
       "      <th>isClear</th>\n",
       "      <th>isCloudy</th>\n",
       "      <th>isFront</th>\n",
       "      <th>isBack</th>\n",
       "      <th>isAll</th>\n",
       "    </tr>\n",
       "  </thead>\n",
       "  <tbody>\n",
       "    <tr>\n",
       "      <th>0</th>\n",
       "      <td>37.464778</td>\n",
       "      <td>55.758040</td>\n",
       "      <td>1</td>\n",
       "      <td>0</td>\n",
       "      <td>1</td>\n",
       "      <td>Технические неисправности отсутствуют</td>\n",
       "      <td>0</td>\n",
       "      <td>1</td>\n",
       "      <td>1</td>\n",
       "      <td>0</td>\n",
       "      <td>0</td>\n",
       "    </tr>\n",
       "    <tr>\n",
       "      <th>1</th>\n",
       "      <td>37.388917</td>\n",
       "      <td>55.811425</td>\n",
       "      <td>1</td>\n",
       "      <td>1</td>\n",
       "      <td>1</td>\n",
       "      <td>Технические неисправности отсутствуют</td>\n",
       "      <td>1</td>\n",
       "      <td>0</td>\n",
       "      <td>1</td>\n",
       "      <td>0</td>\n",
       "      <td>0</td>\n",
       "    </tr>\n",
       "    <tr>\n",
       "      <th>2</th>\n",
       "      <td>37.388920</td>\n",
       "      <td>55.811375</td>\n",
       "      <td>0</td>\n",
       "      <td>1</td>\n",
       "      <td>1</td>\n",
       "      <td>Технические неисправности отсутствуют</td>\n",
       "      <td>1</td>\n",
       "      <td>0</td>\n",
       "      <td>1</td>\n",
       "      <td>0</td>\n",
       "      <td>0</td>\n",
       "    </tr>\n",
       "    <tr>\n",
       "      <th>3</th>\n",
       "      <td>37.623161</td>\n",
       "      <td>55.866810</td>\n",
       "      <td>1</td>\n",
       "      <td>1</td>\n",
       "      <td>1</td>\n",
       "      <td>Технические неисправности отсутствуют</td>\n",
       "      <td>0</td>\n",
       "      <td>1</td>\n",
       "      <td>0</td>\n",
       "      <td>0</td>\n",
       "      <td>0</td>\n",
       "    </tr>\n",
       "    <tr>\n",
       "      <th>4</th>\n",
       "      <td>37.623190</td>\n",
       "      <td>55.866790</td>\n",
       "      <td>0</td>\n",
       "      <td>1</td>\n",
       "      <td>1</td>\n",
       "      <td>Технические неисправности отсутствуют</td>\n",
       "      <td>0</td>\n",
       "      <td>1</td>\n",
       "      <td>0</td>\n",
       "      <td>0</td>\n",
       "      <td>0</td>\n",
       "    </tr>\n",
       "  </tbody>\n",
       "</table>\n",
       "</div>"
      ],
      "text/plain": [
       "      coordL     coordW  isInjured  isLight  isDry  \\\n",
       "0  37.464778  55.758040          1        0      1   \n",
       "1  37.388917  55.811425          1        1      1   \n",
       "2  37.388920  55.811375          0        1      1   \n",
       "3  37.623161  55.866810          1        1      1   \n",
       "4  37.623190  55.866790          0        1      1   \n",
       "\n",
       "                           neispravnosti  isClear  isCloudy  isFront  isBack  \\\n",
       "0  Технические неисправности отсутствуют        0         1        1       0   \n",
       "1  Технические неисправности отсутствуют        1         0        1       0   \n",
       "2  Технические неисправности отсутствуют        1         0        1       0   \n",
       "3  Технические неисправности отсутствуют        0         1        0       0   \n",
       "4  Технические неисправности отсутствуют        0         1        0       0   \n",
       "\n",
       "   isAll  \n",
       "0      0  \n",
       "1      0  \n",
       "2      0  \n",
       "3      0  \n",
       "4      0  "
      ]
     },
     "execution_count": 388,
     "metadata": {},
     "output_type": "execute_result"
    }
   ],
   "source": [
    "new_df[\"pokritie\"] = (new_df[\"pokritie\"] == \"Сухое\").astype('int32')\n",
    "new_df = new_df.rename(columns={\"pokritie\": \"isDry\"})\n",
    "new_df.head()"
   ]
  },
  {
   "cell_type": "markdown",
   "id": "8d296b95",
   "metadata": {},
   "source": [
    "И посмотрим на neispravnosti"
   ]
  },
  {
   "cell_type": "code",
   "execution_count": 389,
   "id": "ace0fcf3",
   "metadata": {},
   "outputs": [
    {
     "name": "stdout",
     "output_type": "stream",
     "text": [
      "Технические неисправности отсутствуют: 18521\n",
      "Иные неисправности: 148\n",
      "Коэффициент светопропускания стекол менее нормативного: 124\n",
      "Не устанавливались: 65\n",
      "Наличие конструктивных изменений по сравнению с серийным ТС, сведения о которых отсутствуют в регистрационных документах: 62\n",
      "На одну ось ТС установлены шины различных размеров, конструкций (радиальной, диагональной, камерной, бескамерной), моделей, с различными рисунками протектора. На ТС одновременно установлены ошипованные и неошипованные шины: 46\n",
      "Неисправность внешних световых приборов: 30\n",
      "Износ рисунка протектора: 27\n",
      "Неисправность рабочей тормозной системы: 11\n",
      "Неисправность двигателя: 9\n",
      "Технические параметры, указанные на наружной поверхности газовых баллонов автомобилей и автобусов, оснащённых газовой системой питания, не соответствуют данным технического паспорта. Отсутствуют даты последнего и планируемого освидетельствования.: 6\n",
      "Разрыв колеса: 5\n",
      "Неисправность рабочей тормозной системы | Наличие конструктивных изменений по сравнению с серийным ТС, сведения о которых отсутствуют в регистрационных документах: 4\n",
      "Наличие конструктивных изменений по сравнению с серийным ТС, сведения о которых отсутствуют в регистрационных документах | Коэффициент светопропускания стекол менее нормативного: 3\n",
      "Шины не соответствуют модели ТС: 3\n",
      "Неудовлетворительное состояние светоотражающих элементов: 2\n",
      "Неисправность рабочей тормозной системы | Иные неисправности: 2\n",
      "Недостатки техобслуживания (в т.ч. наличие посторонних предметов, ветоши в агрегатах и пр.): 2\n",
      "Неисправность маслопровода: 2\n",
      "Иные неисправности | Технические параметры, указанные на наружной поверхности газовых баллонов автомобилей и автобусов, оснащённых газовой системой питания, не соответствуют данным технического паспорта. Отсутствуют даты последнего и планируемого освидетельствования.: 2\n",
      "Коэффициент светопропускания стекол менее нормативного | Иные неисправности: 2\n",
      "Неисправность стеклоочистительного оборудования: 2\n",
      "Неисправность системы охлаждения: 1\n",
      "На одну ось ТС установлены шины различных размеров, конструкций (радиальной, диагональной, камерной, бескамерной), моделей, с различными рисунками протектора. На ТС одновременно установлены ошипованные и неошипованные шины | Технические параметры, указанные на наружной поверхности газовых баллонов автомобилей и автобусов, оснащённых газовой системой питания, не соответствуют данным технического паспорта. Отсутствуют даты последнего и планируемого освидетельствования.: 1\n",
      "Неисправность электрооборудования (электропроводки): 1\n",
      "Неисправность внешних световых приборов | Разрыв колеса: 1\n",
      "Неисправность внешних световых приборов | Наличие конструктивных изменений по сравнению с серийным ТС, сведения о которых отсутствуют в регистрационных документах: 1\n"
     ]
    }
   ],
   "source": [
    "counts(\"neispravnosti\", df=new_df)"
   ]
  },
  {
   "cell_type": "markdown",
   "id": "518be84f",
   "metadata": {},
   "source": [
    "Заметим, что все неисправности встречаются крайне редко. Поэтому оставим 2 переменные: нет неисправностей и есть неисправности"
   ]
  },
  {
   "cell_type": "code",
   "execution_count": 390,
   "id": "03099809",
   "metadata": {},
   "outputs": [
    {
     "data": {
      "text/plain": [
       "562"
      ]
     },
     "execution_count": 390,
     "metadata": {},
     "output_type": "execute_result"
    }
   ],
   "source": [
    "(new_df[\"neispravnosti\"] != \"Технические неисправности отсутствуют\").sum()"
   ]
  },
  {
   "cell_type": "markdown",
   "id": "774531e0",
   "metadata": {},
   "source": [
    "Всего неисправности были в 562 случаях"
   ]
  },
  {
   "cell_type": "code",
   "execution_count": 391,
   "id": "b4618905",
   "metadata": {},
   "outputs": [
    {
     "data": {
      "text/html": [
       "<div>\n",
       "<style scoped>\n",
       "    .dataframe tbody tr th:only-of-type {\n",
       "        vertical-align: middle;\n",
       "    }\n",
       "\n",
       "    .dataframe tbody tr th {\n",
       "        vertical-align: top;\n",
       "    }\n",
       "\n",
       "    .dataframe thead th {\n",
       "        text-align: right;\n",
       "    }\n",
       "</style>\n",
       "<table border=\"1\" class=\"dataframe\">\n",
       "  <thead>\n",
       "    <tr style=\"text-align: right;\">\n",
       "      <th></th>\n",
       "      <th>coordL</th>\n",
       "      <th>coordW</th>\n",
       "      <th>isInjured</th>\n",
       "      <th>isLight</th>\n",
       "      <th>isDry</th>\n",
       "      <th>isNotBroken</th>\n",
       "      <th>isClear</th>\n",
       "      <th>isCloudy</th>\n",
       "      <th>isFront</th>\n",
       "      <th>isBack</th>\n",
       "      <th>isAll</th>\n",
       "    </tr>\n",
       "  </thead>\n",
       "  <tbody>\n",
       "    <tr>\n",
       "      <th>0</th>\n",
       "      <td>37.464778</td>\n",
       "      <td>55.758040</td>\n",
       "      <td>1</td>\n",
       "      <td>0</td>\n",
       "      <td>1</td>\n",
       "      <td>1</td>\n",
       "      <td>0</td>\n",
       "      <td>1</td>\n",
       "      <td>1</td>\n",
       "      <td>0</td>\n",
       "      <td>0</td>\n",
       "    </tr>\n",
       "    <tr>\n",
       "      <th>1</th>\n",
       "      <td>37.388917</td>\n",
       "      <td>55.811425</td>\n",
       "      <td>1</td>\n",
       "      <td>1</td>\n",
       "      <td>1</td>\n",
       "      <td>1</td>\n",
       "      <td>1</td>\n",
       "      <td>0</td>\n",
       "      <td>1</td>\n",
       "      <td>0</td>\n",
       "      <td>0</td>\n",
       "    </tr>\n",
       "    <tr>\n",
       "      <th>2</th>\n",
       "      <td>37.388920</td>\n",
       "      <td>55.811375</td>\n",
       "      <td>0</td>\n",
       "      <td>1</td>\n",
       "      <td>1</td>\n",
       "      <td>1</td>\n",
       "      <td>1</td>\n",
       "      <td>0</td>\n",
       "      <td>1</td>\n",
       "      <td>0</td>\n",
       "      <td>0</td>\n",
       "    </tr>\n",
       "    <tr>\n",
       "      <th>3</th>\n",
       "      <td>37.623161</td>\n",
       "      <td>55.866810</td>\n",
       "      <td>1</td>\n",
       "      <td>1</td>\n",
       "      <td>1</td>\n",
       "      <td>1</td>\n",
       "      <td>0</td>\n",
       "      <td>1</td>\n",
       "      <td>0</td>\n",
       "      <td>0</td>\n",
       "      <td>0</td>\n",
       "    </tr>\n",
       "    <tr>\n",
       "      <th>4</th>\n",
       "      <td>37.623190</td>\n",
       "      <td>55.866790</td>\n",
       "      <td>0</td>\n",
       "      <td>1</td>\n",
       "      <td>1</td>\n",
       "      <td>1</td>\n",
       "      <td>0</td>\n",
       "      <td>1</td>\n",
       "      <td>0</td>\n",
       "      <td>0</td>\n",
       "      <td>0</td>\n",
       "    </tr>\n",
       "  </tbody>\n",
       "</table>\n",
       "</div>"
      ],
      "text/plain": [
       "      coordL     coordW  isInjured  isLight  isDry  isNotBroken  isClear  \\\n",
       "0  37.464778  55.758040          1        0      1            1        0   \n",
       "1  37.388917  55.811425          1        1      1            1        1   \n",
       "2  37.388920  55.811375          0        1      1            1        1   \n",
       "3  37.623161  55.866810          1        1      1            1        0   \n",
       "4  37.623190  55.866790          0        1      1            1        0   \n",
       "\n",
       "   isCloudy  isFront  isBack  isAll  \n",
       "0         1        1       0      0  \n",
       "1         0        1       0      0  \n",
       "2         0        1       0      0  \n",
       "3         1        0       0      0  \n",
       "4         1        0       0      0  "
      ]
     },
     "execution_count": 391,
     "metadata": {},
     "output_type": "execute_result"
    }
   ],
   "source": [
    "new_df[\"neispravnosti\"] = (new_df[\"neispravnosti\"] == \"Технические неисправности отсутствуют\").astype('int32')\n",
    "new_df = new_df.rename(columns={\"neispravnosti\": \"isNotBroken\"})\n",
    "new_df.head()"
   ]
  },
  {
   "cell_type": "markdown",
   "id": "893ac754",
   "metadata": {},
   "source": [
    "Все переменные, кроме координат привидены к нужному виду. На том предобработка данных закончена"
   ]
  },
  {
   "cell_type": "code",
   "execution_count": 392,
   "id": "6878bece",
   "metadata": {},
   "outputs": [],
   "source": [
    "new_df.to_csv(\"6 Аварии/transformation.csv\")"
   ]
  },
  {
   "cell_type": "code",
   "execution_count": 399,
   "id": "2d4ba735",
   "metadata": {
    "scrolled": false
   },
   "outputs": [
    {
     "name": "stdout",
     "output_type": "stream",
     "text": [
      "Перегон (нет объектов на месте ДТП): 2810\n",
      "Нерегулируемый пешеходный переход: 1109\n",
      "Выезд с прилегающей территории: 749\n",
      "Регулируемый перекресток: 725\n",
      "Регулируемый пешеходный переход: 623\n",
      "Внутридворовая территория: 497\n",
      "Нерегулируемый перекрёсток неравнозначных улиц (дорог): 429\n",
      "Мост, эстакада, путепровод: 297\n",
      "Остановка общественного транспорта: 245\n",
      "Нерегулируемый перекрёсток равнозначных улиц (дорог): 81\n",
      "Тротуар, пешеходная дорожка: 73\n",
      "Автостоянка (отделенная от проезжей части): 62\n",
      "Подход к мосту, эстакаде, путепроводу: 61\n",
      "Тоннель: 56\n",
      "Автостоянка (не отделённая от проезжей части): 37\n",
      "Остановка трамвая: 30\n",
      "АЗС: 22\n",
      "Иное место: 18\n",
      "Нерегулируемое пересечение с круговым движением: 14\n",
      "Нерегулируемый пешеходный переход, расположенный на участке улицы или дороги, проходящей вдоль территории школы или иной детской организации: 11\n",
      "Пешеходная зона: 5\n",
      "Гаражные постройки (гаражный кооператив, товарищество либо иное место концентрированного размещения гаражей): 5\n",
      "Регулируемый ж/д переезд с дежурным: 2\n",
      "Регулируемый пешеходный переход, расположенный на участке улицы или дороги, проходящей вдоль территории школы или иной детской организации: 1\n",
      "Регулируемый ж/д переезд без дежурного: 1\n",
      "Остановка маршрутного такси: 1\n"
     ]
    }
   ],
   "source": [
    "counts(\"placeConditions\")"
   ]
  },
  {
   "cell_type": "code",
   "execution_count": 400,
   "id": "cde6846b",
   "metadata": {},
   "outputs": [
    {
     "name": "stdout",
     "output_type": "stream",
     "text": [
      "Остановка общественного транспорта: 3025\n",
      "Административные здания: 961\n",
      "Многоквартирные жилые дома: 856\n",
      "Крупный торговый объект (являющийся объектом массового тяготения пешеходов и (или) транспорта): 527\n",
      "Отсутствие в непосредственной близости объектов УДС и объектов притяжения: 468\n",
      "АЗС: 390\n",
      "Школа либо иная детская (в т.ч. дошкольная) организация: 222\n",
      "Регулируемый пешеходный переход: 193\n",
      "Нерегулируемый пешеходный переход: 182\n",
      "Эстакада, путепровод: 140\n",
      "Производственное предприятие: 122\n",
      "Зоны отдыха: 109\n",
      "Надземный пешеходный переход: 91\n",
      "Жилые дома индивидуальной застройки: 87\n",
      "Медицинские (лечебные) организации: 74\n",
      "Остановка трамвая: 69\n",
      "Автостоянка (отделенная от проезжей части): 54\n",
      "Нерегулируемый перекрёсток: 53\n",
      "Подземный пешеходный переход: 50\n",
      "Регулируемый перекрёсток: 49\n",
      "Спортивные и развлекательные объекты: 45\n",
      "Иная образовательная организация: 44\n",
      "Объект торговли, общественного питания на автодороге вне НП: 33\n",
      "Мост: 25\n",
      "Аэропорт, ж/д вокзал (ж/д станция), речной или морской порт (пристань): 23\n",
      "Объект строительства: 17\n",
      "Одиночный торговый объект, являющийся местом притяжения транспорта и (или) пешеходов: 10\n",
      "Остановка маршрутного такси: 10\n",
      "Гаражные постройки (гаражный кооператив, товарищество либо иное место концентрированного размещения гаражей): 9\n",
      "Иной объект: 8\n",
      "Тоннель: 5\n",
      "Нерегулируемый ж/д переезд: 4\n",
      "Регулируемый ж/д переезд без дежурного: 4\n",
      "Кладбище: 2\n",
      "Автовокзал (автостанция): 1\n",
      "Территориальное подразделение МВД России (либо его структурное подразделение): 1\n",
      "Объект (здание, сооружение) религиозного культа: 1\n"
     ]
    }
   ],
   "source": [
    "counts(\"closeObjects\")"
   ]
  },
  {
   "cell_type": "code",
   "execution_count": 406,
   "id": "5a7c2b82",
   "metadata": {},
   "outputs": [],
   "source": [
    "series = df[\"placeConditions\"] + \"; \" + df[\"closeObjects\"]"
   ]
  },
  {
   "cell_type": "code",
   "execution_count": 407,
   "id": "a9d06a39",
   "metadata": {},
   "outputs": [
    {
     "name": "stdout",
     "output_type": "stream",
     "text": [
      "Перегон (нет объектов на месте ДТП); Остановка общественного транспорта: 944\n",
      "Нерегулируемый пешеходный переход; Остановка общественного транспорта: 517\n",
      "Регулируемый пешеходный переход; Остановка общественного транспорта: 383\n",
      "Выезд с прилегающей территории; Остановка общественного транспорта: 342\n",
      "Регулируемый перекресток; Остановка общественного транспорта: 329\n",
      "Перегон (нет объектов на месте ДТП); Отсутствие в непосредственной близости объектов УДС и объектов притяжения: 328\n",
      "Перегон (нет объектов на месте ДТП); Административные здания: 323\n",
      "Перегон (нет объектов на месте ДТП); АЗС: 204\n",
      "Перегон (нет объектов на месте ДТП); Многоквартирные жилые дома: 202\n",
      "Перегон (нет объектов на месте ДТП); Крупный торговый объект (являющийся объектом массового тяготения пешеходов и (или) транспорта): 179\n",
      "Нерегулируемый перекрёсток неравнозначных улиц (дорог); Остановка общественного транспорта: 177\n",
      "Нерегулируемый пешеходный переход; Административные здания: 177\n",
      "Внутридворовая территория; Многоквартирные жилые дома: 170\n",
      "Нерегулируемый пешеходный переход; Многоквартирные жилые дома: 153\n",
      "Перегон (нет объектов на месте ДТП); Эстакада, путепровод: 110\n",
      "Выезд с прилегающей территории; Многоквартирные жилые дома: 109\n",
      "Регулируемый перекресток; Административные здания: 105\n",
      "Регулируемый перекресток; Регулируемый пешеходный переход: 99\n",
      "Внутридворовая территория; Школа либо иная детская (в т.ч. дошкольная) организация: 91\n",
      "Перегон (нет объектов на месте ДТП); Надземный пешеходный переход: 77\n",
      "Выезд с прилегающей территории; Административные здания: 70\n",
      "Остановка общественного транспорта; Остановка общественного транспорта: 68\n",
      "Внутридворовая территория; Остановка общественного транспорта: 64\n",
      "Внутридворовая территория; Административные здания: 61\n",
      "Мост, эстакада, путепровод; Остановка общественного транспорта: 61\n",
      "Нерегулируемый пешеходный переход; Крупный торговый объект (являющийся объектом массового тяготения пешеходов и (или) транспорта): 60\n",
      "Нерегулируемый перекрёсток неравнозначных улиц (дорог); Административные здания: 58\n",
      "Регулируемый пешеходный переход; Многоквартирные жилые дома: 58\n",
      "Перегон (нет объектов на месте ДТП); Нерегулируемый пешеходный переход: 52\n",
      "Регулируемый пешеходный переход; Административные здания: 50\n",
      "Перегон (нет объектов на месте ДТП); Жилые дома индивидуальной застройки: 48\n",
      "Перегон (нет объектов на месте ДТП); Регулируемый пешеходный переход: 47\n",
      "Внутридворовая территория; Крупный торговый объект (являющийся объектом массового тяготения пешеходов и (или) транспорта): 46\n",
      "Мост, эстакада, путепровод; Отсутствие в непосредственной близости объектов УДС и объектов притяжения: 45\n",
      "Регулируемый перекресток; Крупный торговый объект (являющийся объектом массового тяготения пешеходов и (или) транспорта): 43\n",
      "Перегон (нет объектов на месте ДТП); Зоны отдыха: 42\n",
      "Мост, эстакада, путепровод; Многоквартирные жилые дома: 41\n",
      "Выезд с прилегающей территории; Крупный торговый объект (являющийся объектом массового тяготения пешеходов и (или) транспорта): 38\n",
      "Перегон (нет объектов на месте ДТП); Производственное предприятие: 37\n",
      "Тротуар, пешеходная дорожка; Остановка общественного транспорта: 36\n",
      "Перегон (нет объектов на месте ДТП); Школа либо иная детская (в т.ч. дошкольная) организация: 36\n",
      "Нерегулируемый перекрёсток неравнозначных улиц (дорог); Нерегулируемый пешеходный переход: 34\n",
      "Регулируемый пешеходный переход; Крупный торговый объект (являющийся объектом массового тяготения пешеходов и (или) транспорта): 32\n",
      "Регулируемый перекресток; АЗС: 32\n",
      "Выезд с прилегающей территории; АЗС: 32\n",
      "Нерегулируемый перекрёсток равнозначных улиц (дорог); Остановка общественного транспорта: 31\n",
      "Выезд с прилегающей территории; Нерегулируемый пешеходный переход: 30\n",
      "Мост, эстакада, путепровод; Крупный торговый объект (являющийся объектом массового тяготения пешеходов и (или) транспорта): 29\n",
      "Выезд с прилегающей территории; Школа либо иная детская (в т.ч. дошкольная) организация: 29\n",
      "Мост, эстакада, путепровод; Административные здания: 29\n",
      "Нерегулируемый пешеходный переход; Нерегулируемый пешеходный переход: 28\n",
      "Остановка общественного транспорта; Многоквартирные жилые дома: 28\n",
      "Мост, эстакада, путепровод; АЗС: 26\n",
      "Нерегулируемый перекрёсток неравнозначных улиц (дорог); Крупный торговый объект (являющийся объектом массового тяготения пешеходов и (или) транспорта): 26\n",
      "Нерегулируемый перекрёсток неравнозначных улиц (дорог); АЗС: 26\n",
      "Перегон (нет объектов на месте ДТП); Регулируемый перекрёсток: 25\n",
      "Остановка общественного транспорта; Крупный торговый объект (являющийся объектом массового тяготения пешеходов и (или) транспорта): 25\n",
      "Остановка общественного транспорта; Административные здания: 24\n",
      "Нерегулируемый пешеходный переход; Школа либо иная детская (в т.ч. дошкольная) организация: 22\n",
      "Регулируемый перекресток; Многоквартирные жилые дома: 22\n",
      "Нерегулируемый пешеходный переход; АЗС: 21\n",
      "Выезд с прилегающей территории; Производственное предприятие: 21\n",
      "Автостоянка (отделенная от проезжей части); Крупный торговый объект (являющийся объектом массового тяготения пешеходов и (или) транспорта): 20\n",
      "Регулируемый пешеходный переход; АЗС: 20\n",
      "Остановка общественного транспорта; Нерегулируемый пешеходный переход: 19\n",
      "Нерегулируемый пешеходный переход; Нерегулируемый перекрёсток: 19\n",
      "Нерегулируемый пешеходный переход; Зоны отдыха: 19\n",
      "Тоннель; Отсутствие в непосредственной близости объектов УДС и объектов притяжения: 19\n",
      "Нерегулируемый перекрёсток неравнозначных улиц (дорог); Отсутствие в непосредственной близости объектов УДС и объектов притяжения: 19\n",
      "Подход к мосту, эстакаде, путепроводу; Остановка общественного транспорта: 18\n",
      "Перегон (нет объектов на месте ДТП); Автостоянка (отделенная от проезжей части): 17\n",
      "Перегон (нет объектов на месте ДТП); Нерегулируемый перекрёсток: 17\n",
      "Перегон (нет объектов на месте ДТП); Подземный пешеходный переход: 17\n",
      "Перегон (нет объектов на месте ДТП); Остановка трамвая: 16\n",
      "Регулируемый пешеходный переход; Регулируемый пешеходный переход: 16\n",
      "Тоннель; Многоквартирные жилые дома: 15\n",
      "Нерегулируемый перекрёсток неравнозначных улиц (дорог); Многоквартирные жилые дома: 15\n",
      "Внутридворовая территория; Медицинские (лечебные) организации: 15\n",
      "Нерегулируемый пешеходный переход; Медицинские (лечебные) организации: 15\n",
      "Регулируемый пешеходный переход; Остановка трамвая: 15\n",
      "Автостоянка (отделенная от проезжей части); Остановка общественного транспорта: 15\n",
      "Остановка общественного транспорта; Подземный пешеходный переход: 14\n",
      "Мост, эстакада, путепровод; Эстакада, путепровод: 13\n",
      "Перегон (нет объектов на месте ДТП); Медицинские (лечебные) организации: 13\n",
      "Нерегулируемый перекрёсток неравнозначных улиц (дорог); Производственное предприятие: 12\n",
      "Нерегулируемый пешеходный переход; Отсутствие в непосредственной близости объектов УДС и объектов притяжения: 12\n",
      "Нерегулируемый пешеходный переход; Остановка трамвая: 12\n",
      "Регулируемый перекресток; Регулируемый перекрёсток: 12\n",
      "Выезд с прилегающей территории; Медицинские (лечебные) организации: 12\n",
      "Регулируемый перекресток; Отсутствие в непосредственной близости объектов УДС и объектов притяжения: 12\n",
      "Остановка общественного транспорта; Регулируемый пешеходный переход: 12\n",
      "Регулируемый перекресток; Подземный пешеходный переход: 11\n",
      "Регулируемый перекресток; Остановка трамвая: 11\n",
      "Нерегулируемый перекрёсток равнозначных улиц (дорог); Административные здания: 11\n",
      "Тоннель; Административные здания: 11\n",
      "Нерегулируемый перекрёсток неравнозначных улиц (дорог); Жилые дома индивидуальной застройки: 11\n",
      "Мост, эстакада, путепровод; Производственное предприятие: 10\n",
      "Перегон (нет объектов на месте ДТП); Спортивные и развлекательные объекты: 10\n",
      "Нерегулируемый пешеходный переход; Производственное предприятие: 10\n",
      "Остановка трамвая; Остановка общественного транспорта: 10\n",
      "Выезд с прилегающей территории; Зоны отдыха: 10\n",
      "Автостоянка (не отделённая от проезжей части); Остановка общественного транспорта: 9\n",
      "Перегон (нет объектов на месте ДТП); Объект торговли, общественного питания на автодороге вне НП: 9\n",
      "Остановка общественного транспорта; Школа либо иная детская (в т.ч. дошкольная) организация: 9\n",
      "Регулируемый перекресток; Иная образовательная организация: 9\n",
      "Остановка общественного транспорта; Зоны отдыха: 9\n",
      "Остановка общественного транспорта; АЗС: 9\n",
      "Тротуар, пешеходная дорожка; Многоквартирные жилые дома: 9\n",
      "Выезд с прилегающей территории; Регулируемый пешеходный переход: 9\n",
      "Перегон (нет объектов на месте ДТП); Аэропорт, ж/д вокзал (ж/д станция), речной или морской порт (пристань): 9\n",
      "Перегон (нет объектов на месте ДТП); Объект строительства: 9\n",
      "Выезд с прилегающей территории; Автостоянка (отделенная от проезжей части): 9\n",
      "Нерегулируемый пешеходный переход; Жилые дома индивидуальной застройки: 8\n",
      "Тротуар, пешеходная дорожка; Административные здания: 8\n",
      "Мост, эстакада, путепровод; Мост: 8\n",
      "Остановка трамвая; Административные здания: 8\n",
      "Перегон (нет объектов на месте ДТП); Мост: 8\n",
      "Внутридворовая территория; Спортивные и развлекательные объекты: 8\n",
      "Внутридворовая территория; Автостоянка (отделенная от проезжей части): 8\n",
      "Внутридворовая территория; Зоны отдыха: 8\n",
      "Автостоянка (не отделённая от проезжей части); Многоквартирные жилые дома: 8\n",
      "Мост, эстакада, путепровод; Спортивные и развлекательные объекты: 8\n",
      "Регулируемый пешеходный переход; Медицинские (лечебные) организации: 7\n",
      "Перегон (нет объектов на месте ДТП); Иная образовательная организация: 7\n",
      "Нерегулируемый перекрёсток неравнозначных улиц (дорог); Школа либо иная детская (в т.ч. дошкольная) организация: 7\n",
      "Нерегулируемый перекрёсток равнозначных улиц (дорог); Многоквартирные жилые дома: 7\n",
      "Регулируемый перекресток; Производственное предприятие: 7\n",
      "Подход к мосту, эстакаде, путепроводу; Крупный торговый объект (являющийся объектом массового тяготения пешеходов и (или) транспорта): 7\n",
      "Регулируемый пешеходный переход; Школа либо иная детская (в т.ч. дошкольная) организация: 7\n",
      "Подход к мосту, эстакаде, путепроводу; АЗС: 7\n",
      "Регулируемый пешеходный переход; Отсутствие в непосредственной близости объектов УДС и объектов притяжения: 6\n",
      "Внутридворовая территория; Производственное предприятие: 6\n",
      "Автостоянка (не отделённая от проезжей части); Крупный торговый объект (являющийся объектом массового тяготения пешеходов и (или) транспорта): 6\n",
      "Нерегулируемый пешеходный переход; Автостоянка (отделенная от проезжей части): 6\n",
      "Регулируемый перекресток; Нерегулируемый пешеходный переход: 6\n",
      "Автостоянка (отделенная от проезжей части); Административные здания: 6\n",
      "Нерегулируемый пешеходный переход; Объект торговли, общественного питания на автодороге вне НП: 6\n",
      "Тоннель; Остановка общественного транспорта: 6\n",
      "Нерегулируемый перекрёсток неравнозначных улиц (дорог); Зоны отдыха: 6\n",
      "Автостоянка (не отделённая от проезжей части); Административные здания: 6\n",
      "Нерегулируемый пешеходный переход, расположенный на участке улицы или дороги, проходящей вдоль территории школы или иной детской организации; Остановка общественного транспорта: 6\n",
      "Нерегулируемый перекрёсток неравнозначных улиц (дорог); Нерегулируемый перекрёсток: 6\n",
      "Перегон (нет объектов на месте ДТП); Гаражные постройки (гаражный кооператив, товарищество либо иное место концентрированного размещения гаражей): 5\n",
      "Выезд с прилегающей территории; Отсутствие в непосредственной близости объектов УДС и объектов притяжения: 5\n",
      "Выезд с прилегающей территории; Спортивные и развлекательные объекты: 5\n",
      "Перегон (нет объектов на месте ДТП); Иной объект: 5\n",
      "Иное место; Отсутствие в непосредственной близости объектов УДС и объектов притяжения: 5\n",
      "Нерегулируемый пешеходный переход; Спортивные и развлекательные объекты: 5\n",
      "Нерегулируемый пешеходный переход; Аэропорт, ж/д вокзал (ж/д станция), речной или морской порт (пристань): 5\n",
      "Подход к мосту, эстакаде, путепроводу; Мост: 5\n",
      "Выезд с прилегающей территории; Нерегулируемый перекрёсток: 5\n",
      "Нерегулируемый пешеходный переход, расположенный на участке улицы или дороги, проходящей вдоль территории школы или иной детской организации; Школа либо иная детская (в т.ч. дошкольная) организация: 5\n",
      "Внутридворовая территория; Иная образовательная организация: 5\n",
      "Нерегулируемый перекрёсток равнозначных улиц (дорог); Отсутствие в непосредственной близости объектов УДС и объектов притяжения: 5\n",
      "Нерегулируемый перекрёсток неравнозначных улиц (дорог); Медицинские (лечебные) организации: 5\n",
      "Автостоянка (отделенная от проезжей части); Многоквартирные жилые дома: 5\n",
      "Выезд с прилегающей территории; Жилые дома индивидуальной застройки: 5\n",
      "АЗС; Административные здания: 5\n",
      "Подход к мосту, эстакаде, путепроводу; Многоквартирные жилые дома: 5\n",
      "Остановка общественного транспорта; Остановка трамвая: 5\n",
      "Нерегулируемый перекрёсток неравнозначных улиц (дорог); Иная образовательная организация: 5\n",
      "Подход к мосту, эстакаде, путепроводу; Эстакада, путепровод: 5\n",
      "Регулируемый перекресток; Автостоянка (отделенная от проезжей части): 4\n",
      "Иное место; Производственное предприятие: 4\n",
      "Перегон (нет объектов на месте ДТП); Тоннель: 4\n",
      "Регулируемый пешеходный переход; Зоны отдыха: 4\n",
      "Регулируемый перекресток; Зоны отдыха: 4\n",
      "Внутридворовая территория; Жилые дома индивидуальной застройки: 4\n",
      "Нерегулируемый перекрёсток равнозначных улиц (дорог); Производственное предприятие: 4\n",
      "Нерегулируемый перекрёсток неравнозначных улиц (дорог); Остановка трамвая: 4\n",
      "Мост, эстакада, путепровод; Нерегулируемый перекрёсток: 4\n",
      "Регулируемый перекресток; Школа либо иная детская (в т.ч. дошкольная) организация: 4\n",
      "Мост, эстакада, путепровод; Объект строительства: 4\n",
      "АЗС; Отсутствие в непосредственной близости объектов УДС и объектов притяжения: 4\n",
      "Подход к мосту, эстакаде, путепроводу; Административные здания: 4\n",
      "Выезд с прилегающей территории; Иная образовательная организация: 4\n",
      "Внутридворовая территория; Объект торговли, общественного питания на автодороге вне НП: 4\n",
      "Регулируемый перекресток; Спортивные и развлекательные объекты: 3\n",
      "Остановка общественного транспорта; Иная образовательная организация: 3\n",
      "Регулируемый пешеходный переход; Регулируемый перекрёсток: 3\n",
      "Перегон (нет объектов на месте ДТП); Одиночный торговый объект, являющийся местом притяжения транспорта и (или) пешеходов: 3\n",
      "Подход к мосту, эстакаде, путепроводу; Производственное предприятие: 3\n",
      "Регулируемый пешеходный переход; Надземный пешеходный переход: 3\n",
      "Остановка общественного транспорта; Отсутствие в непосредственной близости объектов УДС и объектов притяжения: 3\n",
      "Нерегулируемое пересечение с круговым движением; Остановка общественного транспорта: 3\n",
      "Мост, эстакада, путепровод; Аэропорт, ж/д вокзал (ж/д станция), речной или морской порт (пристань): 3\n",
      "Нерегулируемый перекрёсток равнозначных улиц (дорог); Школа либо иная детская (в т.ч. дошкольная) организация: 3\n",
      "Нерегулируемый перекрёсток равнозначных улиц (дорог); Нерегулируемый пешеходный переход: 3\n",
      "Остановка общественного транспорта; Остановка маршрутного такси: 3\n",
      "Внутридворовая территория; АЗС: 3\n",
      "Автостоянка (отделенная от проезжей части); Производственное предприятие: 3\n",
      "Нерегулируемый перекрёсток равнозначных улиц (дорог); Крупный торговый объект (являющийся объектом массового тяготения пешеходов и (или) транспорта): 3\n",
      "Регулируемый перекресток; Объект торговли, общественного питания на автодороге вне НП: 3\n",
      "Мост, эстакада, путепровод; Иная образовательная организация: 3\n",
      "Тротуар, пешеходная дорожка; Крупный торговый объект (являющийся объектом массового тяготения пешеходов и (или) транспорта): 3\n",
      "Тротуар, пешеходная дорожка; Нерегулируемый пешеходный переход: 3\n",
      "Нерегулируемый пешеходный переход; Иная образовательная организация: 3\n",
      "Нерегулируемый перекрёсток неравнозначных улиц (дорог); Автостоянка (отделенная от проезжей части): 3\n",
      "Остановка общественного транспорта; Регулируемый перекрёсток: 3\n",
      "Перегон (нет объектов на месте ДТП); Остановка маршрутного такси: 3\n",
      "Остановка общественного транспорта; Надземный пешеходный переход: 3\n",
      "Остановка трамвая; Многоквартирные жилые дома: 3\n",
      "Регулируемый перекресток; Жилые дома индивидуальной застройки: 3\n",
      "Выезд с прилегающей территории; Объект торговли, общественного питания на автодороге вне НП: 3\n",
      "Регулируемый перекресток; Медицинские (лечебные) организации: 3\n",
      "Нерегулируемый перекрёсток равнозначных улиц (дорог); АЗС: 3\n",
      "Нерегулируемый пешеходный переход; Нерегулируемый ж/д переезд: 3\n",
      "Тротуар, пешеходная дорожка; Школа либо иная детская (в т.ч. дошкольная) организация: 3\n",
      "Регулируемый пешеходный переход; Эстакада, путепровод: 3\n",
      "Пешеходная зона; Зоны отдыха: 2\n",
      "Пешеходная зона; Остановка общественного транспорта: 2\n",
      "Нерегулируемый пешеходный переход; Надземный пешеходный переход: 2\n",
      "Регулируемый пешеходный переход; Подземный пешеходный переход: 2\n",
      "Нерегулируемое пересечение с круговым движением; Крупный торговый объект (являющийся объектом массового тяготения пешеходов и (или) транспорта): 2\n",
      "Остановка трамвая; Остановка трамвая: 2\n",
      "Регулируемый пешеходный переход; Объект строительства: 2\n",
      "Тротуар, пешеходная дорожка; Подземный пешеходный переход: 2\n",
      "Тротуар, пешеходная дорожка; Медицинские (лечебные) организации: 2\n",
      "Иное место; Крупный торговый объект (являющийся объектом массового тяготения пешеходов и (или) транспорта): 2\n",
      "Иное место; Административные здания: 2\n",
      "АЗС; Нерегулируемый пешеходный переход: 2\n",
      "Тротуар, пешеходная дорожка; Зоны отдыха: 2\n",
      "АЗС; Крупный торговый объект (являющийся объектом массового тяготения пешеходов и (или) транспорта): 2\n",
      "Тоннель; Эстакада, путепровод: 2\n",
      "Регулируемый пешеходный переход; Производственное предприятие: 2\n",
      "Автостоянка (отделенная от проезжей части); Одиночный торговый объект, являющийся местом притяжения транспорта и (или) пешеходов: 2\n",
      "Перегон (нет объектов на месте ДТП); Кладбище: 2\n",
      "Нерегулируемый перекрёсток неравнозначных улиц (дорог); Надземный пешеходный переход: 2\n",
      "Регулируемый пешеходный переход; Иная образовательная организация: 2\n",
      "Подход к мосту, эстакаде, путепроводу; Отсутствие в непосредственной близости объектов УДС и объектов притяжения: 2\n",
      "Внутридворовая территория; Одиночный торговый объект, являющийся местом притяжения транспорта и (или) пешеходов: 2\n",
      "АЗС; АЗС: 2\n",
      "Выезд с прилегающей территории; Регулируемый перекрёсток: 2\n",
      "Остановка трамвая; Нерегулируемый пешеходный переход: 2\n",
      "Мост, эстакада, путепровод; Гаражные постройки (гаражный кооператив, товарищество либо иное место концентрированного размещения гаражей): 2\n",
      "Остановка общественного транспорта; Производственное предприятие: 2\n",
      "АЗС; Остановка общественного транспорта: 2\n",
      "Нерегулируемый перекрёсток неравнозначных улиц (дорог); Объект торговли, общественного питания на автодороге вне НП: 2\n",
      "Гаражные постройки (гаражный кооператив, товарищество либо иное место концентрированного размещения гаражей); Многоквартирные жилые дома: 2\n",
      "Выезд с прилегающей территории; Аэропорт, ж/д вокзал (ж/д станция), речной или морской порт (пристань): 2\n",
      "АЗС; Многоквартирные жилые дома: 2\n",
      "Автостоянка (не отделённая от проезжей части); Школа либо иная детская (в т.ч. дошкольная) организация: 2\n",
      "Нерегулируемый перекрёсток равнозначных улиц (дорог); Регулируемый пешеходный переход: 2\n",
      "Остановка трамвая; Крупный торговый объект (являющийся объектом массового тяготения пешеходов и (или) транспорта): 2\n",
      "Нерегулируемое пересечение с круговым движением; Многоквартирные жилые дома: 2\n",
      "Мост, эстакада, путепровод; Школа либо иная детская (в т.ч. дошкольная) организация: 2\n",
      "Подход к мосту, эстакаде, путепроводу; Подземный пешеходный переход: 2\n",
      "Автостоянка (отделенная от проезжей части); АЗС: 2\n",
      "Остановка трамвая; Регулируемый пешеходный переход: 2\n",
      "Мост, эстакада, путепровод; Жилые дома индивидуальной застройки: 2\n",
      "Регулируемый пешеходный переход; Нерегулируемый пешеходный переход: 2\n",
      "Регулируемый пешеходный переход; Автостоянка (отделенная от проезжей части): 2\n",
      "Выезд с прилегающей территории; Остановка трамвая: 2\n",
      "Нерегулируемый перекрёсток неравнозначных улиц (дорог); Регулируемый пешеходный переход: 2\n",
      "Нерегулируемое пересечение с круговым движением; Административные здания: 2\n",
      "Остановка общественного транспорта; Объект торговли, общественного питания на автодороге вне НП: 1\n",
      "Остановка общественного транспорта; Автостоянка (отделенная от проезжей части): 1\n",
      "Нерегулируемый пешеходный переход; Регулируемый перекрёсток: 1\n",
      "Остановка общественного транспорта; Эстакада, путепровод: 1\n",
      "Нерегулируемый пешеходный переход; Эстакада, путепровод: 1\n",
      "Выезд с прилегающей территории; Эстакада, путепровод: 1\n",
      "Остановка общественного транспорта; Аэропорт, ж/д вокзал (ж/д станция), речной или морской порт (пристань): 1\n",
      "Нерегулируемый перекрёсток неравнозначных улиц (дорог); Остановка маршрутного такси: 1\n",
      "Автостоянка (отделенная от проезжей части); Объект торговли, общественного питания на автодороге вне НП: 1\n",
      "Автостоянка (не отделённая от проезжей части); Одиночный торговый объект, являющийся местом притяжения транспорта и (или) пешеходов: 1\n",
      "Регулируемый перекресток; Эстакада, путепровод: 1\n",
      "Регулируемый пешеходный переход; Нерегулируемый ж/д переезд: 1\n",
      "Мост, эстакада, путепровод; Иной объект: 1\n",
      "Нерегулируемый пешеходный переход; Регулируемый ж/д переезд без дежурного: 1\n",
      "Нерегулируемый пешеходный переход; Регулируемый пешеходный переход: 1\n",
      "Мост, эстакада, путепровод; Автостоянка (отделенная от проезжей части): 1\n",
      "Нерегулируемый перекрёсток равнозначных улиц (дорог); Иная образовательная организация: 1\n",
      "Автостоянка (не отделённая от проезжей части); Иная образовательная организация: 1\n",
      "Мост, эстакада, путепровод; Надземный пешеходный переход: 1\n",
      "Остановка общественного транспорта; Нерегулируемый перекрёсток: 1\n",
      "Нерегулируемый пешеходный переход; Автовокзал (автостанция): 1\n",
      "Иное место; АЗС: 1\n",
      "Тротуар, пешеходная дорожка; Аэропорт, ж/д вокзал (ж/д станция), речной или морской порт (пристань): 1\n",
      "Регулируемый пешеходный переход, расположенный на участке улицы или дороги, проходящей вдоль территории школы или иной детской организации; Школа либо иная детская (в т.ч. дошкольная) организация: 1\n",
      "Регулируемый перекресток; Мост: 1\n",
      "Нерегулируемый перекрёсток неравнозначных улиц (дорог); Аэропорт, ж/д вокзал (ж/д станция), речной или морской порт (пристань): 1\n",
      "Тротуар, пешеходная дорожка; Остановка трамвая: 1\n",
      "Перегон (нет объектов на месте ДТП); Территориальное подразделение МВД России (либо его структурное подразделение): 1\n",
      "Нерегулируемый перекрёсток неравнозначных улиц (дорог); Мост: 1\n",
      "Автостоянка (отделенная от проезжей части); Иной объект: 1\n",
      "Тоннель; АЗС: 1\n",
      "Нерегулируемый перекрёсток равнозначных улиц (дорог); Нерегулируемый перекрёсток: 1\n",
      "Автостоянка (отделенная от проезжей части); Школа либо иная детская (в т.ч. дошкольная) организация: 1\n",
      "Внутридворовая территория; Регулируемый пешеходный переход: 1\n",
      "АЗС; Объект торговли, общественного питания на автодороге вне НП: 1\n",
      "Тоннель; Надземный пешеходный переход: 1\n",
      "Регулируемый ж/д переезд без дежурного; Отсутствие в непосредственной близости объектов УДС и объектов притяжения: 1\n",
      "Автостоянка (не отделённая от проезжей части); Зоны отдыха: 1\n",
      "Иное место; Эстакада, путепровод: 1\n",
      "Тротуар, пешеходная дорожка; Спортивные и развлекательные объекты: 1\n",
      "Гаражные постройки (гаражный кооператив, товарищество либо иное место концентрированного размещения гаражей); Отсутствие в непосредственной близости объектов УДС и объектов притяжения: 1\n",
      "Нерегулируемый перекрёсток равнозначных улиц (дорог); Объект торговли, общественного питания на автодороге вне НП: 1\n",
      "Регулируемый ж/д переезд с дежурным; Крупный торговый объект (являющийся объектом массового тяготения пешеходов и (или) транспорта): 1\n",
      "Мост, эстакада, путепровод; Объект торговли, общественного питания на автодороге вне НП: 1\n",
      "Гаражные постройки (гаражный кооператив, товарищество либо иное место концентрированного размещения гаражей); Административные здания: 1\n",
      "Нерегулируемый перекрёсток неравнозначных улиц (дорог); Тоннель: 1\n",
      "Автостоянка (не отделённая от проезжей части); Спортивные и развлекательные объекты: 1\n",
      "Регулируемый пешеходный переход; Спортивные и развлекательные объекты: 1\n",
      "Выезд с прилегающей территории; Объект строительства: 1\n",
      "Нерегулируемый перекрёсток равнозначных улиц (дорог); Жилые дома индивидуальной застройки: 1\n",
      "Внутридворовая территория; Нерегулируемый пешеходный переход: 1\n",
      "Нерегулируемый перекрёсток неравнозначных улиц (дорог); Подземный пешеходный переход: 1\n",
      "Нерегулируемый перекрёсток неравнозначных улиц (дорог); Спортивные и развлекательные объекты: 1\n",
      "Нерегулируемое пересечение с круговым движением; Регулируемый пешеходный переход: 1\n",
      "Иное место; Жилые дома индивидуальной застройки: 1\n",
      "Нерегулируемое пересечение с круговым движением; Объект торговли, общественного питания на автодороге вне НП: 1\n",
      "Регулируемый пешеходный переход; Жилые дома индивидуальной застройки: 1\n",
      "Остановка общественного транспорта; Жилые дома индивидуальной застройки: 1\n",
      "Тротуар, пешеходная дорожка; Производственное предприятие: 1\n",
      "Выезд с прилегающей территории; Гаражные постройки (гаражный кооператив, товарищество либо иное место концентрированного размещения гаражей): 1\n",
      "Мост, эстакада, путепровод; Остановка трамвая: 1\n",
      "Перегон (нет объектов на месте ДТП); Регулируемый ж/д переезд без дежурного: 1\n",
      "Нерегулируемый перекрёсток неравнозначных улиц (дорог); Одиночный торговый объект, являющийся местом притяжения транспорта и (или) пешеходов: 1\n",
      "Нерегулируемое пересечение с круговым движением; Отсутствие в непосредственной близости объектов УДС и объектов притяжения: 1\n",
      "Нерегулируемый перекрёсток равнозначных улиц (дорог); Зоны отдыха: 1\n",
      "Иное место; Остановка общественного транспорта: 1\n",
      "Нерегулируемый перекрёсток равнозначных улиц (дорог); Регулируемый перекрёсток: 1\n",
      "Тоннель; Крупный торговый объект (являющийся объектом массового тяготения пешеходов и (или) транспорта): 1\n",
      "Нерегулируемый пешеходный переход; Одиночный торговый объект, являющийся местом притяжения транспорта и (или) пешеходов: 1\n",
      "Подход к мосту, эстакаде, путепроводу; Регулируемый пешеходный переход: 1\n",
      "Автостоянка (отделенная от проезжей части); Мост: 1\n",
      "Регулируемый пешеходный переход; Остановка маршрутного такси: 1\n",
      "Автостоянка (отделенная от проезжей части); Объект строительства: 1\n",
      "Гаражные постройки (гаражный кооператив, товарищество либо иное место концентрированного размещения гаражей); Гаражные постройки (гаражный кооператив, товарищество либо иное место концентрированного размещения гаражей): 1\n",
      "Автостоянка (отделенная от проезжей части); Надземный пешеходный переход: 1\n",
      "Нерегулируемое пересечение с круговым движением; Иная образовательная организация: 1\n",
      "Регулируемый перекресток; Надземный пешеходный переход: 1\n",
      "Выезд с прилегающей территории; Иной объект: 1\n",
      "Нерегулируемый перекрёсток равнозначных улиц (дорог); Автостоянка (отделенная от проезжей части): 1\n",
      "Автостоянка (отделенная от проезжей части); Остановка маршрутного такси: 1\n",
      "Нерегулируемый перекрёсток неравнозначных улиц (дорог); Регулируемый ж/д переезд без дежурного: 1\n",
      "Нерегулируемый перекрёсток равнозначных улиц (дорог); Подземный пешеходный переход: 1\n",
      "Подход к мосту, эстакаде, путепроводу; Спортивные и развлекательные объекты: 1\n",
      "Подход к мосту, эстакаде, путепроводу; Автостоянка (отделенная от проезжей части): 1\n",
      "Остановка трамвая; Медицинские (лечебные) организации: 1\n",
      "Тротуар, пешеходная дорожка; Регулируемый перекрёсток: 1\n",
      "Мост, эстакада, путепровод; Регулируемый перекрёсток: 1\n",
      "Автостоянка (не отделённая от проезжей части); Остановка маршрутного такси: 1\n",
      "Остановка маршрутного такси; Остановка общественного транспорта: 1\n",
      "Выезд с прилегающей территории; Регулируемый ж/д переезд без дежурного: 1\n",
      "Регулируемый ж/д переезд с дежурным; Аэропорт, ж/д вокзал (ж/д станция), речной или морской порт (пристань): 1\n",
      "Пешеходная зона; Спортивные и развлекательные объекты: 1\n",
      "АЗС; Жилые дома индивидуальной застройки: 1\n",
      "Нерегулируемое пересечение с круговым движением; Жилые дома индивидуальной застройки: 1\n",
      "Нерегулируемый перекрёсток равнозначных улиц (дорог); Мост: 1\n",
      "Автостоянка (отделенная от проезжей части); Медицинские (лечебные) организации: 1\n",
      "Автостоянка (отделенная от проезжей части); Зоны отдыха: 1\n",
      "АЗС; Эстакада, путепровод: 1\n",
      "Нерегулируемый перекрёсток неравнозначных улиц (дорог); Эстакада, путепровод: 1\n",
      "Автостоянка (не отделённая от проезжей части); АЗС: 1\n",
      "Мост, эстакада, путепровод; Объект (здание, сооружение) религиозного культа: 1\n",
      "Иное место; Автостоянка (отделенная от проезжей части): 1\n"
     ]
    }
   ],
   "source": [
    "allValues = {value: (series == value).sum() for value in series.unique()}\n",
    "allValues = {k: v for k, v in sorted(allValues.items(), key=lambda item: -item[1])}\n",
    "for elem in allValues:\n",
    "    print(f\"{elem}: {allValues[elem]}\")"
   ]
  },
  {
   "cell_type": "markdown",
   "id": "b112d4c5",
   "metadata": {},
   "source": [
    "Теперь сделаем новый датасет для второй гипотезы"
   ]
  },
  {
   "cell_type": "code",
   "execution_count": 428,
   "id": "97cdc230",
   "metadata": {},
   "outputs": [
    {
     "data": {
      "text/html": [
       "<div>\n",
       "<style scoped>\n",
       "    .dataframe tbody tr th:only-of-type {\n",
       "        vertical-align: middle;\n",
       "    }\n",
       "\n",
       "    .dataframe tbody tr th {\n",
       "        vertical-align: top;\n",
       "    }\n",
       "\n",
       "    .dataframe thead th {\n",
       "        text-align: right;\n",
       "    }\n",
       "</style>\n",
       "<table border=\"1\" class=\"dataframe\">\n",
       "  <thead>\n",
       "    <tr style=\"text-align: right;\">\n",
       "      <th></th>\n",
       "      <th>coordL</th>\n",
       "      <th>coordW</th>\n",
       "      <th>lightConditions</th>\n",
       "      <th>weatherConditions</th>\n",
       "      <th>placeConditions</th>\n",
       "      <th>traffic_regime</th>\n",
       "      <th>privod</th>\n",
       "      <th>pokritie</th>\n",
       "      <th>neispravnosti</th>\n",
       "    </tr>\n",
       "  </thead>\n",
       "  <tbody>\n",
       "    <tr>\n",
       "      <th>0</th>\n",
       "      <td>37.464817</td>\n",
       "      <td>55.758116</td>\n",
       "      <td>В темное время суток, освещение включено</td>\n",
       "      <td>Пасмурно</td>\n",
       "      <td>Перегон (нет объектов на месте ДТП)</td>\n",
       "      <td>Режим движения не изменялся</td>\n",
       "      <td>С передним приводом</td>\n",
       "      <td>Обработанное противогололедными материалами</td>\n",
       "      <td>Технические неисправности отсутствуют</td>\n",
       "    </tr>\n",
       "    <tr>\n",
       "      <th>1</th>\n",
       "      <td>37.388953</td>\n",
       "      <td>55.811338</td>\n",
       "      <td>Светлое время суток</td>\n",
       "      <td>Ясно</td>\n",
       "      <td>Перегон (нет объектов на месте ДТП)</td>\n",
       "      <td>Движение частично перекрыто</td>\n",
       "      <td>С передним приводом;С передним приводом</td>\n",
       "      <td>Сухое</td>\n",
       "      <td>Технические неисправности отсутствуют;Техничес...</td>\n",
       "    </tr>\n",
       "    <tr>\n",
       "      <th>2</th>\n",
       "      <td>37.623153</td>\n",
       "      <td>55.866787</td>\n",
       "      <td>Светлое время суток</td>\n",
       "      <td>Пасмурно</td>\n",
       "      <td>Внутридворовая территория</td>\n",
       "      <td>Режим движения не изменялся</td>\n",
       "      <td>Иное расположение рулевого управления</td>\n",
       "      <td>Сухое</td>\n",
       "      <td>Технические неисправности отсутствуют</td>\n",
       "    </tr>\n",
       "    <tr>\n",
       "      <th>3</th>\n",
       "      <td>37.588413</td>\n",
       "      <td>55.660576</td>\n",
       "      <td>В темное время суток, освещение включено</td>\n",
       "      <td>Пасмурно</td>\n",
       "      <td>Регулируемый пешеходный переход</td>\n",
       "      <td>Движение частично перекрыто</td>\n",
       "      <td>С передним приводом;С передним приводом</td>\n",
       "      <td>Мокрое</td>\n",
       "      <td>Технические неисправности отсутствуют;Техничес...</td>\n",
       "    </tr>\n",
       "    <tr>\n",
       "      <th>4</th>\n",
       "      <td>37.636467</td>\n",
       "      <td>55.805098</td>\n",
       "      <td>В темное время суток, освещение включено</td>\n",
       "      <td>Ясно</td>\n",
       "      <td>Остановка общественного транспорта</td>\n",
       "      <td>Режим движения не изменялся</td>\n",
       "      <td>С передним приводом</td>\n",
       "      <td>Сухое</td>\n",
       "      <td>Технические неисправности отсутствуют</td>\n",
       "    </tr>\n",
       "  </tbody>\n",
       "</table>\n",
       "</div>"
      ],
      "text/plain": [
       "      coordL     coordW                           lightConditions  \\\n",
       "0  37.464817  55.758116  В темное время суток, освещение включено   \n",
       "1  37.388953  55.811338                       Светлое время суток   \n",
       "2  37.623153  55.866787                       Светлое время суток   \n",
       "3  37.588413  55.660576  В темное время суток, освещение включено   \n",
       "4  37.636467  55.805098  В темное время суток, освещение включено   \n",
       "\n",
       "  weatherConditions                      placeConditions  \\\n",
       "0          Пасмурно  Перегон (нет объектов на месте ДТП)   \n",
       "1              Ясно  Перегон (нет объектов на месте ДТП)   \n",
       "2          Пасмурно            Внутридворовая территория   \n",
       "3          Пасмурно      Регулируемый пешеходный переход   \n",
       "4              Ясно   Остановка общественного транспорта   \n",
       "\n",
       "                traffic_regime                                   privod  \\\n",
       "0  Режим движения не изменялся                      С передним приводом   \n",
       "1  Движение частично перекрыто  С передним приводом;С передним приводом   \n",
       "2  Режим движения не изменялся    Иное расположение рулевого управления   \n",
       "3  Движение частично перекрыто  С передним приводом;С передним приводом   \n",
       "4  Режим движения не изменялся                      С передним приводом   \n",
       "\n",
       "                                      pokritie  \\\n",
       "0  Обработанное противогололедными материалами   \n",
       "1                                        Сухое   \n",
       "2                                        Сухое   \n",
       "3                                       Мокрое   \n",
       "4                                        Сухое   \n",
       "\n",
       "                                       neispravnosti  \n",
       "0              Технические неисправности отсутствуют  \n",
       "1  Технические неисправности отсутствуют;Техничес...  \n",
       "2              Технические неисправности отсутствуют  \n",
       "3  Технические неисправности отсутствуют;Техничес...  \n",
       "4              Технические неисправности отсутствуют  "
      ]
     },
     "execution_count": 428,
     "metadata": {},
     "output_type": "execute_result"
    }
   ],
   "source": [
    "columns2 = [\"coordL\", \"coordW\", \"lightConditions\", \"weatherConditions\", \"placeConditions\", \"traffic_regime\",\n",
    "           \"privod\", \"pokritie\", \"neispravnosti\"]\n",
    "new_df2 = df[columns2]\n",
    "new_df2.head()"
   ]
  },
  {
   "cell_type": "markdown",
   "id": "49f1834c",
   "metadata": {},
   "source": [
    "сделаем преобразования переменных аналогично с предыдущим датасетом"
   ]
  },
  {
   "cell_type": "code",
   "execution_count": 429,
   "id": "900d2d59",
   "metadata": {},
   "outputs": [
    {
     "data": {
      "text/plain": [
       "43"
      ]
     },
     "execution_count": 429,
     "metadata": {},
     "output_type": "execute_result"
    }
   ],
   "source": [
    "new_df2[\"privod\"].isna().sum()"
   ]
  },
  {
   "cell_type": "code",
   "execution_count": 430,
   "id": "14789428",
   "metadata": {},
   "outputs": [],
   "source": [
    "new_df2 = new_df2.dropna(subset=\"privod\")"
   ]
  },
  {
   "cell_type": "code",
   "execution_count": 431,
   "id": "63d06f46",
   "metadata": {},
   "outputs": [
    {
     "data": {
      "text/html": [
       "<div>\n",
       "<style scoped>\n",
       "    .dataframe tbody tr th:only-of-type {\n",
       "        vertical-align: middle;\n",
       "    }\n",
       "\n",
       "    .dataframe tbody tr th {\n",
       "        vertical-align: top;\n",
       "    }\n",
       "\n",
       "    .dataframe thead th {\n",
       "        text-align: right;\n",
       "    }\n",
       "</style>\n",
       "<table border=\"1\" class=\"dataframe\">\n",
       "  <thead>\n",
       "    <tr style=\"text-align: right;\">\n",
       "      <th></th>\n",
       "      <th>coordL</th>\n",
       "      <th>coordW</th>\n",
       "      <th>isLight</th>\n",
       "      <th>placeConditions</th>\n",
       "      <th>traffic_regime</th>\n",
       "      <th>isDry</th>\n",
       "      <th>isNotBroken</th>\n",
       "      <th>isClear</th>\n",
       "      <th>isCloudy</th>\n",
       "      <th>isFront</th>\n",
       "      <th>isBack</th>\n",
       "      <th>isAll</th>\n",
       "    </tr>\n",
       "  </thead>\n",
       "  <tbody>\n",
       "    <tr>\n",
       "      <th>0</th>\n",
       "      <td>37.464817</td>\n",
       "      <td>55.758116</td>\n",
       "      <td>0</td>\n",
       "      <td>Перегон (нет объектов на месте ДТП)</td>\n",
       "      <td>Режим движения не изменялся</td>\n",
       "      <td>0</td>\n",
       "      <td>1</td>\n",
       "      <td>0</td>\n",
       "      <td>1</td>\n",
       "      <td>1</td>\n",
       "      <td>0</td>\n",
       "      <td>0</td>\n",
       "    </tr>\n",
       "    <tr>\n",
       "      <th>1</th>\n",
       "      <td>37.388953</td>\n",
       "      <td>55.811338</td>\n",
       "      <td>1</td>\n",
       "      <td>Перегон (нет объектов на месте ДТП)</td>\n",
       "      <td>Движение частично перекрыто</td>\n",
       "      <td>1</td>\n",
       "      <td>0</td>\n",
       "      <td>1</td>\n",
       "      <td>0</td>\n",
       "      <td>0</td>\n",
       "      <td>0</td>\n",
       "      <td>0</td>\n",
       "    </tr>\n",
       "    <tr>\n",
       "      <th>2</th>\n",
       "      <td>37.623153</td>\n",
       "      <td>55.866787</td>\n",
       "      <td>1</td>\n",
       "      <td>Внутридворовая территория</td>\n",
       "      <td>Режим движения не изменялся</td>\n",
       "      <td>1</td>\n",
       "      <td>1</td>\n",
       "      <td>0</td>\n",
       "      <td>1</td>\n",
       "      <td>0</td>\n",
       "      <td>0</td>\n",
       "      <td>0</td>\n",
       "    </tr>\n",
       "    <tr>\n",
       "      <th>3</th>\n",
       "      <td>37.588413</td>\n",
       "      <td>55.660576</td>\n",
       "      <td>0</td>\n",
       "      <td>Регулируемый пешеходный переход</td>\n",
       "      <td>Движение частично перекрыто</td>\n",
       "      <td>0</td>\n",
       "      <td>0</td>\n",
       "      <td>0</td>\n",
       "      <td>1</td>\n",
       "      <td>0</td>\n",
       "      <td>0</td>\n",
       "      <td>0</td>\n",
       "    </tr>\n",
       "    <tr>\n",
       "      <th>4</th>\n",
       "      <td>37.636467</td>\n",
       "      <td>55.805098</td>\n",
       "      <td>0</td>\n",
       "      <td>Остановка общественного транспорта</td>\n",
       "      <td>Режим движения не изменялся</td>\n",
       "      <td>1</td>\n",
       "      <td>1</td>\n",
       "      <td>1</td>\n",
       "      <td>0</td>\n",
       "      <td>1</td>\n",
       "      <td>0</td>\n",
       "      <td>0</td>\n",
       "    </tr>\n",
       "  </tbody>\n",
       "</table>\n",
       "</div>"
      ],
      "text/plain": [
       "      coordL     coordW  isLight                      placeConditions  \\\n",
       "0  37.464817  55.758116        0  Перегон (нет объектов на месте ДТП)   \n",
       "1  37.388953  55.811338        1  Перегон (нет объектов на месте ДТП)   \n",
       "2  37.623153  55.866787        1            Внутридворовая территория   \n",
       "3  37.588413  55.660576        0      Регулируемый пешеходный переход   \n",
       "4  37.636467  55.805098        0   Остановка общественного транспорта   \n",
       "\n",
       "                traffic_regime  isDry  isNotBroken  isClear  isCloudy  \\\n",
       "0  Режим движения не изменялся      0            1        0         1   \n",
       "1  Движение частично перекрыто      1            0        1         0   \n",
       "2  Режим движения не изменялся      1            1        0         1   \n",
       "3  Движение частично перекрыто      0            0        0         1   \n",
       "4  Режим движения не изменялся      1            1        1         0   \n",
       "\n",
       "   isFront  isBack  isAll  \n",
       "0        1       0      0  \n",
       "1        0       0      0  \n",
       "2        0       0      0  \n",
       "3        0       0      0  \n",
       "4        1       0      0  "
      ]
     },
     "execution_count": 431,
     "metadata": {},
     "output_type": "execute_result"
    }
   ],
   "source": [
    "new_df2[\"lightConditions\"] = (new_df2[\"lightConditions\"] == \"Светлое время суток\").astype('int32')\n",
    "new_df2 = new_df2.rename(columns={\"lightConditions\": \"isLight\"})\n",
    "\n",
    "isClear = (new_df2[\"weatherConditions\"] == \"Ясно\").astype('int32')\n",
    "isCloudy = (new_df2[\"weatherConditions\"] == \"Пасмурно\").astype('int32')\n",
    "\n",
    "new_df2[\"isClear\"] = isClear\n",
    "new_df2[\"isCloudy\"] = isCloudy\n",
    "\n",
    "new_df2 = new_df2.drop('weatherConditions', axis=1)\n",
    "\n",
    "new_df2[\"privod\"] = new_df2[\"privod\"].replace([\"Не заполнено\", \"\"], \"С передним приводом\")\n",
    "\n",
    "new_df2[\"isFront\"] = (new_df2[\"privod\"] == \"С передним приводом\").astype('int32')\n",
    "new_df2[\"isBack\"] = (new_df2[\"privod\"] == \"С задним приводом\").astype('int32')\n",
    "new_df2[\"isAll\"] = (new_df2[\"privod\"] == \"Полноприводные\").astype('int32')\n",
    "new_df2 = new_df2.drop('privod', axis=1)\n",
    "\n",
    "new_df2[\"pokritie\"] = (new_df2[\"pokritie\"] == \"Сухое\").astype('int32')\n",
    "new_df2 = new_df2.rename(columns={\"pokritie\": \"isDry\"})\n",
    "\n",
    "new_df2[\"neispravnosti\"] = (new_df2[\"neispravnosti\"] == \"Технические неисправности отсутствуют\").astype('int32')\n",
    "new_df2 = new_df2.rename(columns={\"neispravnosti\": \"isNotBroken\"})\n",
    "new_df2.head()"
   ]
  },
  {
   "cell_type": "markdown",
   "id": "f2011b0a",
   "metadata": {},
   "source": [
    "Осталось преобразовать traffic_regime и placeConditions\t"
   ]
  },
  {
   "cell_type": "code",
   "execution_count": 432,
   "id": "5fb9daea",
   "metadata": {},
   "outputs": [
    {
     "name": "stdout",
     "output_type": "stream",
     "text": [
      "Режим движения не изменялся: 5142\n",
      "Движение частично перекрыто: 2759\n",
      "Движение полностью перекрыто: 20\n"
     ]
    }
   ],
   "source": [
    "counts(\"traffic_regime\", df=new_df2)"
   ]
  },
  {
   "cell_type": "markdown",
   "id": "1291cae5",
   "metadata": {},
   "source": [
    "заменим Движение полностью перекрыто на Движение частично перекрыто и изменим переменную на trafficNotBlocked"
   ]
  },
  {
   "cell_type": "code",
   "execution_count": 433,
   "id": "67315878",
   "metadata": {},
   "outputs": [
    {
     "data": {
      "text/html": [
       "<div>\n",
       "<style scoped>\n",
       "    .dataframe tbody tr th:only-of-type {\n",
       "        vertical-align: middle;\n",
       "    }\n",
       "\n",
       "    .dataframe tbody tr th {\n",
       "        vertical-align: top;\n",
       "    }\n",
       "\n",
       "    .dataframe thead th {\n",
       "        text-align: right;\n",
       "    }\n",
       "</style>\n",
       "<table border=\"1\" class=\"dataframe\">\n",
       "  <thead>\n",
       "    <tr style=\"text-align: right;\">\n",
       "      <th></th>\n",
       "      <th>coordL</th>\n",
       "      <th>coordW</th>\n",
       "      <th>isLight</th>\n",
       "      <th>placeConditions</th>\n",
       "      <th>trafficNotBlocked</th>\n",
       "      <th>isDry</th>\n",
       "      <th>isNotBroken</th>\n",
       "      <th>isClear</th>\n",
       "      <th>isCloudy</th>\n",
       "      <th>isFront</th>\n",
       "      <th>isBack</th>\n",
       "      <th>isAll</th>\n",
       "    </tr>\n",
       "  </thead>\n",
       "  <tbody>\n",
       "    <tr>\n",
       "      <th>0</th>\n",
       "      <td>37.464817</td>\n",
       "      <td>55.758116</td>\n",
       "      <td>0</td>\n",
       "      <td>Перегон (нет объектов на месте ДТП)</td>\n",
       "      <td>1</td>\n",
       "      <td>0</td>\n",
       "      <td>1</td>\n",
       "      <td>0</td>\n",
       "      <td>1</td>\n",
       "      <td>1</td>\n",
       "      <td>0</td>\n",
       "      <td>0</td>\n",
       "    </tr>\n",
       "    <tr>\n",
       "      <th>1</th>\n",
       "      <td>37.388953</td>\n",
       "      <td>55.811338</td>\n",
       "      <td>1</td>\n",
       "      <td>Перегон (нет объектов на месте ДТП)</td>\n",
       "      <td>0</td>\n",
       "      <td>1</td>\n",
       "      <td>0</td>\n",
       "      <td>1</td>\n",
       "      <td>0</td>\n",
       "      <td>0</td>\n",
       "      <td>0</td>\n",
       "      <td>0</td>\n",
       "    </tr>\n",
       "    <tr>\n",
       "      <th>2</th>\n",
       "      <td>37.623153</td>\n",
       "      <td>55.866787</td>\n",
       "      <td>1</td>\n",
       "      <td>Внутридворовая территория</td>\n",
       "      <td>1</td>\n",
       "      <td>1</td>\n",
       "      <td>1</td>\n",
       "      <td>0</td>\n",
       "      <td>1</td>\n",
       "      <td>0</td>\n",
       "      <td>0</td>\n",
       "      <td>0</td>\n",
       "    </tr>\n",
       "    <tr>\n",
       "      <th>3</th>\n",
       "      <td>37.588413</td>\n",
       "      <td>55.660576</td>\n",
       "      <td>0</td>\n",
       "      <td>Регулируемый пешеходный переход</td>\n",
       "      <td>0</td>\n",
       "      <td>0</td>\n",
       "      <td>0</td>\n",
       "      <td>0</td>\n",
       "      <td>1</td>\n",
       "      <td>0</td>\n",
       "      <td>0</td>\n",
       "      <td>0</td>\n",
       "    </tr>\n",
       "    <tr>\n",
       "      <th>4</th>\n",
       "      <td>37.636467</td>\n",
       "      <td>55.805098</td>\n",
       "      <td>0</td>\n",
       "      <td>Остановка общественного транспорта</td>\n",
       "      <td>1</td>\n",
       "      <td>1</td>\n",
       "      <td>1</td>\n",
       "      <td>1</td>\n",
       "      <td>0</td>\n",
       "      <td>1</td>\n",
       "      <td>0</td>\n",
       "      <td>0</td>\n",
       "    </tr>\n",
       "    <tr>\n",
       "      <th>...</th>\n",
       "      <td>...</td>\n",
       "      <td>...</td>\n",
       "      <td>...</td>\n",
       "      <td>...</td>\n",
       "      <td>...</td>\n",
       "      <td>...</td>\n",
       "      <td>...</td>\n",
       "      <td>...</td>\n",
       "      <td>...</td>\n",
       "      <td>...</td>\n",
       "      <td>...</td>\n",
       "      <td>...</td>\n",
       "    </tr>\n",
       "    <tr>\n",
       "      <th>7959</th>\n",
       "      <td>37.484665</td>\n",
       "      <td>55.617673</td>\n",
       "      <td>0</td>\n",
       "      <td>Перегон (нет объектов на месте ДТП)</td>\n",
       "      <td>1</td>\n",
       "      <td>0</td>\n",
       "      <td>0</td>\n",
       "      <td>0</td>\n",
       "      <td>1</td>\n",
       "      <td>0</td>\n",
       "      <td>0</td>\n",
       "      <td>0</td>\n",
       "    </tr>\n",
       "    <tr>\n",
       "      <th>7960</th>\n",
       "      <td>37.677258</td>\n",
       "      <td>55.791836</td>\n",
       "      <td>0</td>\n",
       "      <td>Перегон (нет объектов на месте ДТП)</td>\n",
       "      <td>1</td>\n",
       "      <td>0</td>\n",
       "      <td>0</td>\n",
       "      <td>0</td>\n",
       "      <td>1</td>\n",
       "      <td>1</td>\n",
       "      <td>0</td>\n",
       "      <td>0</td>\n",
       "    </tr>\n",
       "    <tr>\n",
       "      <th>7961</th>\n",
       "      <td>37.723961</td>\n",
       "      <td>55.782353</td>\n",
       "      <td>1</td>\n",
       "      <td>Перегон (нет объектов на месте ДТП)</td>\n",
       "      <td>1</td>\n",
       "      <td>0</td>\n",
       "      <td>1</td>\n",
       "      <td>0</td>\n",
       "      <td>1</td>\n",
       "      <td>1</td>\n",
       "      <td>0</td>\n",
       "      <td>0</td>\n",
       "    </tr>\n",
       "    <tr>\n",
       "      <th>7962</th>\n",
       "      <td>37.605579</td>\n",
       "      <td>55.590012</td>\n",
       "      <td>0</td>\n",
       "      <td>Нерегулируемый пешеходный переход</td>\n",
       "      <td>1</td>\n",
       "      <td>0</td>\n",
       "      <td>1</td>\n",
       "      <td>0</td>\n",
       "      <td>1</td>\n",
       "      <td>1</td>\n",
       "      <td>0</td>\n",
       "      <td>0</td>\n",
       "    </tr>\n",
       "    <tr>\n",
       "      <th>7963</th>\n",
       "      <td>37.452822</td>\n",
       "      <td>55.805478</td>\n",
       "      <td>0</td>\n",
       "      <td>Мост, эстакада, путепровод</td>\n",
       "      <td>1</td>\n",
       "      <td>0</td>\n",
       "      <td>0</td>\n",
       "      <td>0</td>\n",
       "      <td>1</td>\n",
       "      <td>0</td>\n",
       "      <td>0</td>\n",
       "      <td>0</td>\n",
       "    </tr>\n",
       "  </tbody>\n",
       "</table>\n",
       "<p>7921 rows × 12 columns</p>\n",
       "</div>"
      ],
      "text/plain": [
       "         coordL     coordW  isLight                      placeConditions  \\\n",
       "0     37.464817  55.758116        0  Перегон (нет объектов на месте ДТП)   \n",
       "1     37.388953  55.811338        1  Перегон (нет объектов на месте ДТП)   \n",
       "2     37.623153  55.866787        1            Внутридворовая территория   \n",
       "3     37.588413  55.660576        0      Регулируемый пешеходный переход   \n",
       "4     37.636467  55.805098        0   Остановка общественного транспорта   \n",
       "...         ...        ...      ...                                  ...   \n",
       "7959  37.484665  55.617673        0  Перегон (нет объектов на месте ДТП)   \n",
       "7960  37.677258  55.791836        0  Перегон (нет объектов на месте ДТП)   \n",
       "7961  37.723961  55.782353        1  Перегон (нет объектов на месте ДТП)   \n",
       "7962  37.605579  55.590012        0    Нерегулируемый пешеходный переход   \n",
       "7963  37.452822  55.805478        0           Мост, эстакада, путепровод   \n",
       "\n",
       "      trafficNotBlocked  isDry  isNotBroken  isClear  isCloudy  isFront  \\\n",
       "0                     1      0            1        0         1        1   \n",
       "1                     0      1            0        1         0        0   \n",
       "2                     1      1            1        0         1        0   \n",
       "3                     0      0            0        0         1        0   \n",
       "4                     1      1            1        1         0        1   \n",
       "...                 ...    ...          ...      ...       ...      ...   \n",
       "7959                  1      0            0        0         1        0   \n",
       "7960                  1      0            0        0         1        1   \n",
       "7961                  1      0            1        0         1        1   \n",
       "7962                  1      0            1        0         1        1   \n",
       "7963                  1      0            0        0         1        0   \n",
       "\n",
       "      isBack  isAll  \n",
       "0          0      0  \n",
       "1          0      0  \n",
       "2          0      0  \n",
       "3          0      0  \n",
       "4          0      0  \n",
       "...      ...    ...  \n",
       "7959       0      0  \n",
       "7960       0      0  \n",
       "7961       0      0  \n",
       "7962       0      0  \n",
       "7963       0      0  \n",
       "\n",
       "[7921 rows x 12 columns]"
      ]
     },
     "execution_count": 433,
     "metadata": {},
     "output_type": "execute_result"
    }
   ],
   "source": [
    "new_df2[\"traffic_regime\"] = (new_df2[\"traffic_regime\"] == \"Режим движения не изменялся\").astype('int32')\n",
    "new_df2 = new_df2.rename(columns={\"traffic_regime\": \"trafficNotBlocked\"})\n",
    "new_df2"
   ]
  },
  {
   "cell_type": "code",
   "execution_count": 435,
   "id": "fe1ec187",
   "metadata": {},
   "outputs": [
    {
     "name": "stdout",
     "output_type": "stream",
     "text": [
      "Перегон (нет объектов на месте ДТП): 2806\n",
      "Нерегулируемый пешеходный переход: 1095\n",
      "Выезд с прилегающей территории: 745\n",
      "Регулируемый перекресток: 725\n",
      "Регулируемый пешеходный переход: 618\n",
      "Внутридворовая территория: 488\n",
      "Нерегулируемый перекрёсток неравнозначных улиц (дорог): 429\n",
      "Мост, эстакада, путепровод: 297\n",
      "Остановка общественного транспорта: 242\n",
      "Нерегулируемый перекрёсток равнозначных улиц (дорог): 81\n",
      "Тротуар, пешеходная дорожка: 72\n",
      "Автостоянка (отделенная от проезжей части): 61\n",
      "Подход к мосту, эстакаде, путепроводу: 61\n",
      "Тоннель: 56\n",
      "Автостоянка (не отделённая от проезжей части): 37\n",
      "Остановка трамвая: 30\n",
      "АЗС: 22\n",
      "Иное место: 18\n",
      "Нерегулируемое пересечение с круговым движением: 14\n",
      "Нерегулируемый пешеходный переход, расположенный на участке улицы или дороги, проходящей вдоль территории школы или иной детской организации: 10\n",
      "Гаражные постройки (гаражный кооператив, товарищество либо иное место концентрированного размещения гаражей): 5\n",
      "Пешеходная зона: 4\n",
      "Регулируемый ж/д переезд с дежурным: 2\n",
      "Регулируемый пешеходный переход, расположенный на участке улицы или дороги, проходящей вдоль территории школы или иной детской организации: 1\n",
      "Регулируемый ж/д переезд без дежурного: 1\n",
      "Остановка маршрутного такси: 1\n"
     ]
    }
   ],
   "source": [
    "counts(\"placeConditions\", df=new_df2)"
   ]
  },
  {
   "cell_type": "code",
   "execution_count": null,
   "id": "9fd48bec",
   "metadata": {},
   "outputs": [],
   "source": []
  }
 ],
 "metadata": {
  "kernelspec": {
   "display_name": "Python 3 (ipykernel)",
   "language": "python",
   "name": "python3"
  },
  "language_info": {
   "codemirror_mode": {
    "name": "ipython",
    "version": 3
   },
   "file_extension": ".py",
   "mimetype": "text/x-python",
   "name": "python",
   "nbconvert_exporter": "python",
   "pygments_lexer": "ipython3",
   "version": "3.9.0"
  }
 },
 "nbformat": 4,
 "nbformat_minor": 5
}
